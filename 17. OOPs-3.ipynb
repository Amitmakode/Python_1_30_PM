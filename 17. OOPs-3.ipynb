{
 "cells": [
  {
   "cell_type": "code",
   "execution_count": 1,
   "id": "1851957d-f34e-44ff-a1d2-1d2ddac26407",
   "metadata": {},
   "outputs": [
    {
     "name": "stdout",
     "output_type": "stream",
     "text": [
      "Vehicles are used for transportation.\n",
      "Car has 4 wheels.\n",
      "Bike has 2 wheels.\n",
      "Electric bike runs on battery.\n"
     ]
    }
   ],
   "source": [
    "# Parent class\n",
    "class Vehicle:\n",
    "    def general_info(self):\n",
    "        print(\"Vehicles are used for transportation.\")\n",
    "\n",
    "# Child class 1 (inherits from Vehicle)\n",
    "class Car(Vehicle):\n",
    "    def car_info(self):\n",
    "        print(\"Car has 4 wheels.\")\n",
    "\n",
    "# Child class 2 (inherits from Vehicle)\n",
    "class Bike(Vehicle):\n",
    "    def bike_info(self):\n",
    "        print(\"Bike has 2 wheels.\")\n",
    "\n",
    "# Grandchild class (inherits from both Car and Bike)\n",
    "class ElectricBike(Car, Bike):\n",
    "    def electric_info(self):\n",
    "        print(\"Electric bike runs on battery.\")\n",
    "\n",
    "# Create object of ElectricBike\n",
    "ebike = ElectricBike()\n",
    "\n",
    "# Access methods\n",
    "ebike.general_info()   # From Vehicle\n",
    "ebike.car_info()       # From Car\n",
    "ebike.bike_info()      # From Bike\n",
    "ebike.electric_info()  # Own method\n"
   ]
  },
  {
   "cell_type": "markdown",
   "id": "2e608a42-873a-4392-b92f-4f6b570eef78",
   "metadata": {},
   "source": [
    "### method required order"
   ]
  },
  {
   "cell_type": "code",
   "execution_count": 3,
   "id": "aaf8dbf6-24d7-4af7-a558-1a5a545a3517",
   "metadata": {},
   "outputs": [
    {
     "data": {
      "text/plain": [
       "[__main__.ElectricBike, __main__.Car, __main__.Bike, __main__.Vehicle, object]"
      ]
     },
     "execution_count": 3,
     "metadata": {},
     "output_type": "execute_result"
    }
   ],
   "source": [
    "#method required order\n",
    "\n",
    "ElectricBike.mro()"
   ]
  },
  {
   "cell_type": "markdown",
   "id": "30468493-0851-4693-adda-8d208e25a671",
   "metadata": {},
   "source": [
    "### name mangling"
   ]
  },
  {
   "cell_type": "code",
   "execution_count": null,
   "id": "f63ff0be-5727-4952-84f9-1730640369e8",
   "metadata": {},
   "outputs": [],
   "source": [
    "#name mangling\n",
    "\n",
    "i3._ineuron3__students1"
   ]
  },
  {
   "cell_type": "code",
   "execution_count": null,
   "id": "bdfd0c6b-b980-46a4-921f-336dfc51d317",
   "metadata": {},
   "outputs": [],
   "source": []
  },
  {
   "cell_type": "code",
   "execution_count": null,
   "id": "7d33159b-0139-4588-b140-d85b2ed0bf67",
   "metadata": {},
   "outputs": [],
   "source": []
  },
  {
   "cell_type": "markdown",
   "id": "f9e50fea-fcef-45d2-8afb-876aa72187f4",
   "metadata": {},
   "source": [
    "### Duck typing"
   ]
  },
  {
   "cell_type": "code",
   "execution_count": null,
   "id": "8b24a32e-0d4a-40fc-bb6a-3e823233c071",
   "metadata": {},
   "outputs": [],
   "source": [
    "class ineuron4:\n",
    "    def students(self):\n",
    "        print(\"print a students details \")\n",
    "\n",
    "class class_type :\n",
    "    def student(self):\n",
    "        print(\"print the class type of students\")"
   ]
  },
  {
   "cell_type": "code",
   "execution_count": null,
   "id": "aa45f56c-56a0-4c40-8ad0-789195840783",
   "metadata": {},
   "outputs": [],
   "source": [
    "def ineuron_external(a,b):\n",
    "    a.students()\n",
    "    b.student()"
   ]
  },
  {
   "cell_type": "code",
   "execution_count": null,
   "id": "f929414f-a3c8-41f3-8538-c134c5bd225a",
   "metadata": {},
   "outputs": [],
   "source": [
    "obj4 = ineuron4()\n",
    "obj5 = class_type()"
   ]
  },
  {
   "cell_type": "code",
   "execution_count": null,
   "id": "92bb3796-ddb7-4f58-b498-0bc3e5a38874",
   "metadata": {},
   "outputs": [],
   "source": []
  },
  {
   "cell_type": "markdown",
   "id": "dd2d50e1-b01a-4db6-9235-6ce81e15a583",
   "metadata": {},
   "source": [
    "### Super()"
   ]
  },
  {
   "cell_type": "code",
   "execution_count": 19,
   "id": "ecc79527-39bf-425d-8931-9d3b9ee99a3a",
   "metadata": {},
   "outputs": [],
   "source": [
    "class mentor:  \n",
    "    def intro(self):\n",
    "        print(\"i am a mentor\")"
   ]
  },
  {
   "cell_type": "code",
   "execution_count": 20,
   "id": "b0293e46-9f66-455c-94ac-5bfedb2fe8ea",
   "metadata": {},
   "outputs": [],
   "source": [
    "class euronmentor(mentor):\n",
    "    def intro(self):\n",
    "        return \"this is euron mentor intro\" "
   ]
  },
  {
   "cell_type": "code",
   "execution_count": 21,
   "id": "68fd6a57-8ad4-4783-9ad5-ac330465f0cd",
   "metadata": {},
   "outputs": [],
   "source": [
    "o1 = mentor()"
   ]
  },
  {
   "cell_type": "code",
   "execution_count": 22,
   "id": "b77c3211-7c78-4184-9897-bc742d0d9c8f",
   "metadata": {},
   "outputs": [],
   "source": [
    "o2 = euronmentor()"
   ]
  },
  {
   "cell_type": "code",
   "execution_count": 25,
   "id": "bcb12e24-43c5-41c1-abe6-6643f58dbfca",
   "metadata": {},
   "outputs": [
    {
     "name": "stdout",
     "output_type": "stream",
     "text": [
      "i am a mentor\n"
     ]
    }
   ],
   "source": [
    "o1.intro()"
   ]
  },
  {
   "cell_type": "code",
   "execution_count": 26,
   "id": "69143391-c038-4b64-a85e-3328964732c6",
   "metadata": {},
   "outputs": [
    {
     "data": {
      "text/plain": [
       "'this is euron mentor intro'"
      ]
     },
     "execution_count": 26,
     "metadata": {},
     "output_type": "execute_result"
    }
   ],
   "source": [
    "o2.intro()"
   ]
  },
  {
   "cell_type": "code",
   "execution_count": 27,
   "id": "c7537f9a-7638-49b3-babf-154c96f99651",
   "metadata": {},
   "outputs": [],
   "source": [
    "class euronmentor1(mentor):\n",
    "    def intro(self):\n",
    "        super().intro()\n",
    "        return \"this is euron mentor intro\""
   ]
  },
  {
   "cell_type": "code",
   "execution_count": 28,
   "id": "c94b094e-e2a1-4466-9bec-3e37b0291b10",
   "metadata": {},
   "outputs": [],
   "source": [
    "o3 = euronmentor1()"
   ]
  },
  {
   "cell_type": "code",
   "execution_count": 29,
   "id": "cea19b9e-1adc-432b-b260-cec63232b8af",
   "metadata": {},
   "outputs": [
    {
     "name": "stdout",
     "output_type": "stream",
     "text": [
      "i am a mentor\n"
     ]
    },
    {
     "data": {
      "text/plain": [
       "'this is euron mentor intro'"
      ]
     },
     "execution_count": 29,
     "metadata": {},
     "output_type": "execute_result"
    }
   ],
   "source": [
    "o3.intro()"
   ]
  },
  {
   "cell_type": "code",
   "execution_count": null,
   "id": "ca126391-f0ce-4867-bb54-f0d4f217f316",
   "metadata": {},
   "outputs": [],
   "source": []
  },
  {
   "cell_type": "code",
   "execution_count": null,
   "id": "0786538a-e51c-43a9-ab95-c8a1ab0e1a58",
   "metadata": {},
   "outputs": [],
   "source": []
  },
  {
   "cell_type": "code",
   "execution_count": 30,
   "id": "53b209ca-a9da-4aa6-86cf-d48167f6dbe9",
   "metadata": {},
   "outputs": [],
   "source": [
    "class parents:\n",
    "    def method(self):\n",
    "        return (\"this is method from parent class\")\n",
    "\n",
    "class child:\n",
    "    def method(self):\n",
    "        return (\"this method is from child class\")\n",
    "    "
   ]
  },
  {
   "cell_type": "code",
   "execution_count": 31,
   "id": "8cdec6f2-1ee3-43b2-8209-f5f411e3630d",
   "metadata": {},
   "outputs": [],
   "source": [
    "class parents:\n",
    "    def method(self):\n",
    "        return (\"this is method from parent class\")\n",
    "\n",
    "class child(parents):\n",
    "    def method(self):\n",
    "        return (\"this method is from child class\")\n",
    "    "
   ]
  },
  {
   "cell_type": "code",
   "execution_count": 32,
   "id": "3b96be5d-da14-49fe-bd68-44c82983ff08",
   "metadata": {},
   "outputs": [],
   "source": [
    "obj= child()"
   ]
  },
  {
   "cell_type": "code",
   "execution_count": 33,
   "id": "7c66032e-06a1-4c75-af29-fc895301a1c6",
   "metadata": {},
   "outputs": [
    {
     "data": {
      "text/plain": [
       "'this method is from child class'"
      ]
     },
     "execution_count": 33,
     "metadata": {},
     "output_type": "execute_result"
    }
   ],
   "source": [
    "obj.method()"
   ]
  },
  {
   "cell_type": "code",
   "execution_count": 49,
   "id": "7e02ba54-1e42-459e-bcdc-46e741dabeec",
   "metadata": {},
   "outputs": [],
   "source": [
    "class parents:\n",
    "    def method(self):\n",
    "         print(\"this method is from parent class\")\n",
    "\n",
    "class child(parents):\n",
    "    def method(self):\n",
    "        super().method()\n",
    "        return (\"this method is from child class\")\n",
    "        super().method()"
   ]
  },
  {
   "cell_type": "code",
   "execution_count": 50,
   "id": "2bd109ea-cfe6-44bb-8c67-f9ccf86f1889",
   "metadata": {},
   "outputs": [],
   "source": [
    "obj1 = child()"
   ]
  },
  {
   "cell_type": "code",
   "execution_count": 51,
   "id": "74a3cb1c-5305-4496-b23d-9b4ab6d276ce",
   "metadata": {},
   "outputs": [
    {
     "name": "stdout",
     "output_type": "stream",
     "text": [
      "this method is from parent class\n"
     ]
    },
    {
     "data": {
      "text/plain": [
       "'this method is from child class'"
      ]
     },
     "execution_count": 51,
     "metadata": {},
     "output_type": "execute_result"
    }
   ],
   "source": [
    "obj1.method()"
   ]
  },
  {
   "cell_type": "code",
   "execution_count": null,
   "id": "b7dc4d4c-fdaa-464f-9bb8-bf1c33d7b969",
   "metadata": {},
   "outputs": [],
   "source": []
  },
  {
   "cell_type": "code",
   "execution_count": 52,
   "id": "dede94c0-dce5-40c5-abcd-69e3d71223cd",
   "metadata": {},
   "outputs": [],
   "source": [
    "class parents:\n",
    "    def method(self):\n",
    "         print(\"this method is from parent class\")\n",
    "\n",
    "class child(parents):\n",
    "    def method(self):\n",
    "        super().method()\n",
    "        print(\"this method is from child class\")\n",
    "        super().method()"
   ]
  },
  {
   "cell_type": "code",
   "execution_count": 53,
   "id": "f8c0665e-c6db-436e-a458-7d1caa7d81eb",
   "metadata": {},
   "outputs": [],
   "source": [
    "obj3 = child()"
   ]
  },
  {
   "cell_type": "code",
   "execution_count": 54,
   "id": "3da48c7a-3b29-4b89-b923-6f02deb5e8f1",
   "metadata": {},
   "outputs": [
    {
     "name": "stdout",
     "output_type": "stream",
     "text": [
      "this method is from parent class\n",
      "this method is from child class\n",
      "this method is from parent class\n"
     ]
    }
   ],
   "source": [
    "obj3.method()"
   ]
  },
  {
   "cell_type": "code",
   "execution_count": null,
   "id": "a2e6a2d4-f96b-4442-b78d-d65c8f23c492",
   "metadata": {},
   "outputs": [],
   "source": []
  },
  {
   "cell_type": "code",
   "execution_count": 57,
   "id": "f8dfda43-385e-40a6-b5a4-5246f8c30eaa",
   "metadata": {},
   "outputs": [],
   "source": [
    "class course:\n",
    "    def __init__(self,title):\n",
    "        self.title = title\n",
    "        print(f\"{self.title}\")"
   ]
  },
  {
   "cell_type": "code",
   "execution_count": 58,
   "id": "6c533424-458d-4996-93a7-0b8d160acdac",
   "metadata": {},
   "outputs": [],
   "source": [
    "class euroncourse(course):\n",
    "    def __init__(self, title,mentor):\n",
    "        super().__init__(title)\n",
    "        self.mentor = mentor\n",
    "        print(f\"{self.mentor} and {self.title}\")"
   ]
  },
  {
   "cell_type": "code",
   "execution_count": 60,
   "id": "4cb0e92a-1148-4405-a62d-3ebc2474efbe",
   "metadata": {},
   "outputs": [
    {
     "name": "stdout",
     "output_type": "stream",
     "text": [
      "trainer\n",
      "amit and trainer\n"
     ]
    }
   ],
   "source": [
    "obj4 = euroncourse(\"trainer\", \"amit\")"
   ]
  },
  {
   "cell_type": "code",
   "execution_count": null,
   "id": "60a79e6f-7c5d-404f-a6f5-ca4369fe66be",
   "metadata": {},
   "outputs": [],
   "source": []
  },
  {
   "cell_type": "markdown",
   "id": "113b5b78-a13f-4047-a0a3-53beccd65c88",
   "metadata": {},
   "source": [
    "### Special method"
   ]
  },
  {
   "cell_type": "code",
   "execution_count": 61,
   "id": "e8bdb162-75ed-4af0-ade4-18f7943bc1bc",
   "metadata": {},
   "outputs": [],
   "source": [
    "class course:\n",
    "    def __init__(self,title,mentor):\n",
    "        self.title = title\n",
    "        self.mentor = mentor\n",
    "        \n",
    "    def __str__(self):\n",
    "        return f\"my name is sudh\""
   ]
  },
  {
   "cell_type": "code",
   "execution_count": 62,
   "id": "3a44fc6c-44fc-4a63-828c-3fb60601bec8",
   "metadata": {},
   "outputs": [],
   "source": [
    "o5 = course(\"tainer\", \"amit\")"
   ]
  },
  {
   "cell_type": "code",
   "execution_count": 63,
   "id": "549eebb1-912a-4ae8-8a77-8b04abb27eec",
   "metadata": {},
   "outputs": [
    {
     "data": {
      "text/plain": [
       "'amit'"
      ]
     },
     "execution_count": 63,
     "metadata": {},
     "output_type": "execute_result"
    }
   ],
   "source": [
    "o5.mentor"
   ]
  },
  {
   "cell_type": "code",
   "execution_count": 64,
   "id": "1674d5f7-d1d8-44d0-81c0-aab837fdbeb7",
   "metadata": {},
   "outputs": [
    {
     "data": {
      "text/plain": [
       "'tainer'"
      ]
     },
     "execution_count": 64,
     "metadata": {},
     "output_type": "execute_result"
    }
   ],
   "source": [
    "o5.title"
   ]
  },
  {
   "cell_type": "code",
   "execution_count": 67,
   "id": "1a9d77ac-096a-41c4-ba0a-69260bab8e2f",
   "metadata": {},
   "outputs": [
    {
     "data": {
      "text/plain": [
       "'my name is sudh'"
      ]
     },
     "execution_count": 67,
     "metadata": {},
     "output_type": "execute_result"
    }
   ],
   "source": [
    "o5.__str__()"
   ]
  },
  {
   "cell_type": "code",
   "execution_count": 68,
   "id": "2a5b2ab1-e527-4274-8bbd-a6562fb2f405",
   "metadata": {},
   "outputs": [
    {
     "data": {
      "text/plain": [
       "['__add__',\n",
       " '__class__',\n",
       " '__class_getitem__',\n",
       " '__contains__',\n",
       " '__delattr__',\n",
       " '__delitem__',\n",
       " '__dir__',\n",
       " '__doc__',\n",
       " '__eq__',\n",
       " '__format__',\n",
       " '__ge__',\n",
       " '__getattribute__',\n",
       " '__getitem__',\n",
       " '__getstate__',\n",
       " '__gt__',\n",
       " '__hash__',\n",
       " '__iadd__',\n",
       " '__imul__',\n",
       " '__init__',\n",
       " '__init_subclass__',\n",
       " '__iter__',\n",
       " '__le__',\n",
       " '__len__',\n",
       " '__lt__',\n",
       " '__mul__',\n",
       " '__ne__',\n",
       " '__new__',\n",
       " '__reduce__',\n",
       " '__reduce_ex__',\n",
       " '__repr__',\n",
       " '__reversed__',\n",
       " '__rmul__',\n",
       " '__setattr__',\n",
       " '__setitem__',\n",
       " '__sizeof__',\n",
       " '__str__',\n",
       " '__subclasshook__',\n",
       " 'append',\n",
       " 'clear',\n",
       " 'copy',\n",
       " 'count',\n",
       " 'extend',\n",
       " 'index',\n",
       " 'insert',\n",
       " 'pop',\n",
       " 'remove',\n",
       " 'reverse',\n",
       " 'sort']"
      ]
     },
     "execution_count": 68,
     "metadata": {},
     "output_type": "execute_result"
    }
   ],
   "source": [
    "dir(list)"
   ]
  },
  {
   "cell_type": "code",
   "execution_count": null,
   "id": "64dc556f-5b42-4ce5-982f-c72cafb581fd",
   "metadata": {},
   "outputs": [],
   "source": [
    "class course:\n",
    "    def __init__(self,title,mentor):\n",
    "        self.title = title\n",
    "        self.mentor = mentor\n",
    "        \n",
    "    def __str__(self):\n",
    "        return f\"my name is sudh\"\n",
    "    \n",
    "    def __eq__(self, value):\n",
    "        return self.title == value.title"
   ]
  },
  {
   "cell_type": "code",
   "execution_count": 69,
   "id": "10a2f2e4-8a0f-4ee3-9f4d-c84919461dc2",
   "metadata": {},
   "outputs": [],
   "source": [
    "class course:\n",
    "    def __init__(self,title,mentor):\n",
    "        self.title = title\n",
    "        self.mentor = mentor\n",
    "        \n",
    "    def __str__(self):\n",
    "        return f\"my name is sudh\"\n",
    "    \n",
    "    def __eq__(self, value):\n",
    "        return self.title == value.title\n",
    "    \n",
    "    def __len__(self):\n",
    "        return self.title"
   ]
  },
  {
   "cell_type": "code",
   "execution_count": null,
   "id": "fd682fb0-1034-4fa6-9763-148882898735",
   "metadata": {},
   "outputs": [],
   "source": []
  },
  {
   "cell_type": "code",
   "execution_count": 70,
   "id": "411540a6-492f-4173-9d5c-06c24a978ca0",
   "metadata": {},
   "outputs": [],
   "source": [
    "class course:\n",
    "    def __init__(self,title,mentor):\n",
    "        self.title = title\n",
    "        self.mentor = mentor\n",
    "        \n",
    "    def __str__(self):\n",
    "        return f\"my name is sudh\"\n",
    "    \n",
    "    def __eq__(self, value):\n",
    "        return self.title == value.title\n",
    "    \n",
    "    def __len__(self):\n",
    "        return self.title\n",
    "    \n",
    "    def __del__(self):\n",
    "        print(\"delete the object\")\n",
    "        \n",
    "    def __call__(self, *args, **kwds):\n",
    "        return f\"{self.title} , {self.mentor} ,{args} ,{kwds} \""
   ]
  },
  {
   "cell_type": "code",
   "execution_count": null,
   "id": "68ca6dd5-f251-4ea1-9766-fc384aaa7c1b",
   "metadata": {},
   "outputs": [],
   "source": []
  },
  {
   "cell_type": "code",
   "execution_count": null,
   "id": "f898287e-1c57-4912-8ad9-cf5417440316",
   "metadata": {},
   "outputs": [],
   "source": []
  },
  {
   "cell_type": "markdown",
   "id": "39233555-ade3-4e5b-9864-fdf400f1eb24",
   "metadata": {},
   "source": [
    "### @Staticmethod"
   ]
  },
  {
   "cell_type": "code",
   "execution_count": 71,
   "id": "fa9d7e30-8c7b-4eab-a5cd-f5234df41f7e",
   "metadata": {},
   "outputs": [],
   "source": [
    "import math\n",
    "from typing import Union, List"
   ]
  },
  {
   "cell_type": "code",
   "execution_count": 78,
   "id": "eca36ced-c167-427e-94c8-ddd731c7348b",
   "metadata": {},
   "outputs": [],
   "source": [
    "def add(a, b):\n",
    "    \"\"\"Add two numbers\"\"\"\n",
    "    return a + b"
   ]
  },
  {
   "cell_type": "code",
   "execution_count": 79,
   "id": "c42844cc-276c-4eb1-9583-91146bc86eaa",
   "metadata": {},
   "outputs": [
    {
     "data": {
      "text/plain": [
       "10.5"
      ]
     },
     "execution_count": 79,
     "metadata": {},
     "output_type": "execute_result"
    }
   ],
   "source": [
    "add(3, 7.5)"
   ]
  },
  {
   "cell_type": "code",
   "execution_count": 80,
   "id": "ebc27033-0d90-40ac-b189-675c0d1105e0",
   "metadata": {},
   "outputs": [],
   "source": [
    "def add1(a: float, b: float)-> float:\n",
    "    \"\"\"Add two numbers\"\"\"\n",
    "    return a + b"
   ]
  },
  {
   "cell_type": "code",
   "execution_count": 81,
   "id": "dc038732-6a09-4a45-9d30-7d2340d998a6",
   "metadata": {},
   "outputs": [
    {
     "data": {
      "text/plain": [
       "11.8"
      ]
     },
     "execution_count": 81,
     "metadata": {},
     "output_type": "execute_result"
    }
   ],
   "source": [
    "add1(3, 8.8)"
   ]
  },
  {
   "cell_type": "code",
   "execution_count": null,
   "id": "155300a2-fc0e-41bc-a1e7-c8c5a007afb8",
   "metadata": {},
   "outputs": [],
   "source": []
  },
  {
   "cell_type": "code",
   "execution_count": 82,
   "id": "7b11117a-8fb2-4540-8606-3358c2ec0764",
   "metadata": {},
   "outputs": [],
   "source": [
    "# ===== BASIC CALCULATOR FUNCTIONS =====\n",
    "\n",
    "# Functions WITHOUT class (3 basic functions)\n",
    "def add(a: float, b: float) :\n",
    "    \"\"\"Add two numbers\"\"\"\n",
    "    return a + b\n",
    "\n",
    "def subtract(a: float, b: float) -> float:\n",
    "    \"\"\"Subtract second number from first\"\"\"\n",
    "    return a - b\n",
    "\n",
    "def multiply(a: float, b: float) -> float:\n",
    "    \"\"\"Multiply two numbers\"\"\"\n",
    "    return a * b"
   ]
  },
  {
   "cell_type": "code",
   "execution_count": 83,
   "id": "dc37378a-9bf1-43ca-ab4f-34b40ab3d0e3",
   "metadata": {},
   "outputs": [],
   "source": [
    "# Functions WITH class (3 basic functions)\n",
    "class BasicCalculator:\n",
    "    \"\"\"Basic calculator operations using class methods\"\"\"\n",
    "    \n",
    "    @staticmethod\n",
    "    def divide(a: float, b: float) -> float:\n",
    "        \"\"\"Divide first number by second\"\"\"\n",
    "        if b == 0:\n",
    "            raise ValueError(\"Cannot divide by zero\")\n",
    "        return a / b\n",
    "    \n",
    "    @staticmethod\n",
    "    def power(base: float, exponent: float) -> float:\n",
    "        \"\"\"Calculate base raised to the power of exponent\"\"\"\n",
    "        return base ** exponent\n",
    "    \n",
    "    @staticmethod\n",
    "    def modulo(a: float, b: float) -> float:\n",
    "        \"\"\"Calculate remainder when a is divided by b\"\"\"\n",
    "        if b == 0:\n",
    "            raise ValueError(\"Cannot perform modulo with zero\")\n",
    "        return a % b"
   ]
  },
  {
   "cell_type": "code",
   "execution_count": 84,
   "id": "481c00d9-f485-4050-bcf8-c5f44b09f616",
   "metadata": {},
   "outputs": [
    {
     "name": "stdout",
     "output_type": "stream",
     "text": [
      "hello python .....\n",
      "7\n",
      "2.5700000000000003\n"
     ]
    }
   ],
   "source": [
    "print(\"hello python .....\")\n",
    "print(add(2, 5))\n",
    "print(subtract(20, 17.43))"
   ]
  },
  {
   "cell_type": "code",
   "execution_count": 85,
   "id": "3c2a2c05-a864-442b-bdea-4e044776f47b",
   "metadata": {},
   "outputs": [],
   "source": [
    "object = BasicCalculator()"
   ]
  },
  {
   "cell_type": "code",
   "execution_count": 86,
   "id": "2cec88b3-3e09-455b-91f8-b0df5fbbd7e6",
   "metadata": {},
   "outputs": [
    {
     "data": {
      "text/plain": [
       "5.0"
      ]
     },
     "execution_count": 86,
     "metadata": {},
     "output_type": "execute_result"
    }
   ],
   "source": [
    "object.divide(20, 4)"
   ]
  },
  {
   "cell_type": "code",
   "execution_count": 87,
   "id": "a74714bf-b0c2-4caf-9628-a763655e9462",
   "metadata": {},
   "outputs": [],
   "source": [
    "class Calculator:\n",
    "    # Regular instance method (needs 'self')\n",
    "    def regular_divide(self, a, b):\n",
    "        if b == 0:\n",
    "            raise ValueError(\"Cannot divide by zero\")\n",
    "        return a / b\n",
    "    \n",
    "    # Static method (no 'self' needed)\n",
    "    @staticmethod\n",
    "    def static_divide(a, b):\n",
    "        if b == 0:\n",
    "            raise ValueError(\"Cannot divide by zero\")\n",
    "        return a / b"
   ]
  },
  {
   "cell_type": "code",
   "execution_count": 88,
   "id": "28828a1c-2af0-4ca6-8874-3613149de4ad",
   "metadata": {},
   "outputs": [],
   "source": [
    "# Usage:\n",
    "calc = Calculator()\n"
   ]
  },
  {
   "cell_type": "code",
   "execution_count": 89,
   "id": "55d91f68-12d6-49d9-a7f8-24c918ea76ad",
   "metadata": {},
   "outputs": [],
   "source": [
    "# Regular method - needs instance\n",
    "result1 = calc.regular_divide(10, 2)  # Works"
   ]
  },
  {
   "cell_type": "code",
   "execution_count": 90,
   "id": "021ebf10-9a68-4706-98f5-a602917ffef3",
   "metadata": {},
   "outputs": [
    {
     "data": {
      "text/plain": [
       "5.0"
      ]
     },
     "execution_count": 90,
     "metadata": {},
     "output_type": "execute_result"
    }
   ],
   "source": [
    "result1"
   ]
  },
  {
   "cell_type": "code",
   "execution_count": 91,
   "id": "84dc5c32-ea18-4f2b-a721-8464e7373101",
   "metadata": {},
   "outputs": [
    {
     "ename": "TypeError",
     "evalue": "Calculator.regular_divide() missing 1 required positional argument: 'b'",
     "output_type": "error",
     "traceback": [
      "\u001b[1;31m---------------------------------------------------------------------------\u001b[0m",
      "\u001b[1;31mTypeError\u001b[0m                                 Traceback (most recent call last)",
      "Cell \u001b[1;32mIn[91], line 1\u001b[0m\n\u001b[1;32m----> 1\u001b[0m Calculator\u001b[38;5;241m.\u001b[39mregular_divide(\u001b[38;5;241m10\u001b[39m, \u001b[38;5;241m2\u001b[39m)\n",
      "\u001b[1;31mTypeError\u001b[0m: Calculator.regular_divide() missing 1 required positional argument: 'b'"
     ]
    }
   ],
   "source": [
    "Calculator.regular_divide(10, 2)    # ERROR! Needs instance"
   ]
  },
  {
   "cell_type": "code",
   "execution_count": null,
   "id": "32d433ab-20f4-46cc-99d8-1d1357933608",
   "metadata": {},
   "outputs": [],
   "source": []
  },
  {
   "cell_type": "code",
   "execution_count": null,
   "id": "c163dee5-636f-4c39-b3e9-1043cdb2a395",
   "metadata": {},
   "outputs": [],
   "source": []
  },
  {
   "cell_type": "code",
   "execution_count": 92,
   "id": "9b796f53-5f2b-43fe-a157-84fdc8382013",
   "metadata": {},
   "outputs": [],
   "source": [
    "# Static method - can be called both ways\n",
    "result2 = calc.static_divide(10, 2)      # Works\n",
    "result3 = Calculator.static_divide(10, 2) # Also works!"
   ]
  },
  {
   "cell_type": "code",
   "execution_count": 93,
   "id": "629835f6-2a44-4dd4-8fd4-2ca72c931834",
   "metadata": {},
   "outputs": [
    {
     "data": {
      "text/plain": [
       "5.0"
      ]
     },
     "execution_count": 93,
     "metadata": {},
     "output_type": "execute_result"
    }
   ],
   "source": [
    "result2"
   ]
  },
  {
   "cell_type": "code",
   "execution_count": 94,
   "id": "0b9f351e-a08b-43e7-9f4e-3fec120164dd",
   "metadata": {},
   "outputs": [
    {
     "data": {
      "text/plain": [
       "5.0"
      ]
     },
     "execution_count": 94,
     "metadata": {},
     "output_type": "execute_result"
    }
   ],
   "source": [
    "result3"
   ]
  },
  {
   "cell_type": "code",
   "execution_count": null,
   "id": "24d97078-fe18-44d3-a7aa-47d85bf98e72",
   "metadata": {},
   "outputs": [],
   "source": []
  },
  {
   "cell_type": "code",
   "execution_count": 95,
   "id": "dd4825b6-a7a4-46e2-a09d-49befd55fd3a",
   "metadata": {},
   "outputs": [],
   "source": [
    "class mathematic:\n",
    "    # Regular instance method (needs 'self')\n",
    "    def divide(self, a, b):\n",
    "        if b == 0:\n",
    "            raise ValueError(\"Cannot divide by zero\")\n",
    "        return a / b\n",
    "    \n",
    "    # Static method (no 'self' needed)\n",
    "    @staticmethod\n",
    "    def divide1(a, b):\n",
    "        if b == 0:\n",
    "            raise ValueError(\"Cannot divide by zero\")\n",
    "        return a / b"
   ]
  },
  {
   "cell_type": "code",
   "execution_count": 96,
   "id": "afc1ad2f-3820-4b87-bf95-ecb4099b9222",
   "metadata": {},
   "outputs": [],
   "source": [
    "o6 = mathematic()"
   ]
  },
  {
   "cell_type": "code",
   "execution_count": 97,
   "id": "408dab91-02c6-415a-ac04-9017e2336a70",
   "metadata": {},
   "outputs": [
    {
     "data": {
      "text/plain": [
       "9.166666666666666"
      ]
     },
     "execution_count": 97,
     "metadata": {},
     "output_type": "execute_result"
    }
   ],
   "source": [
    "o6.divide(55,6)"
   ]
  },
  {
   "cell_type": "code",
   "execution_count": 98,
   "id": "a4ce9847-82b7-4b0b-8dcd-2ae9ac8b7c98",
   "metadata": {},
   "outputs": [
    {
     "data": {
      "text/plain": [
       "9.166666666666666"
      ]
     },
     "execution_count": 98,
     "metadata": {},
     "output_type": "execute_result"
    }
   ],
   "source": [
    "o6.divide1(55,6)"
   ]
  },
  {
   "cell_type": "code",
   "execution_count": 99,
   "id": "c8691ca7-b3db-47d0-94e2-1afde3c5c989",
   "metadata": {},
   "outputs": [
    {
     "ename": "TypeError",
     "evalue": "mathematic.divide() missing 1 required positional argument: 'b'",
     "output_type": "error",
     "traceback": [
      "\u001b[1;31m---------------------------------------------------------------------------\u001b[0m",
      "\u001b[1;31mTypeError\u001b[0m                                 Traceback (most recent call last)",
      "Cell \u001b[1;32mIn[99], line 1\u001b[0m\n\u001b[1;32m----> 1\u001b[0m mathematic\u001b[38;5;241m.\u001b[39mdivide(\u001b[38;5;241m20\u001b[39m, \u001b[38;5;241m3\u001b[39m)\n",
      "\u001b[1;31mTypeError\u001b[0m: mathematic.divide() missing 1 required positional argument: 'b'"
     ]
    }
   ],
   "source": [
    "mathematic.divide(20, 3)"
   ]
  },
  {
   "cell_type": "code",
   "execution_count": 100,
   "id": "ee7fcd4c-474c-4cd7-8061-2144064ec6f7",
   "metadata": {},
   "outputs": [
    {
     "data": {
      "text/plain": [
       "6.666666666666667"
      ]
     },
     "execution_count": 100,
     "metadata": {},
     "output_type": "execute_result"
    }
   ],
   "source": [
    "mathematic.divide1(20, 3)"
   ]
  },
  {
   "cell_type": "code",
   "execution_count": null,
   "id": "3d8890a4-cebd-4fe3-9e70-00ea54153f28",
   "metadata": {},
   "outputs": [],
   "source": []
  }
 ],
 "metadata": {
  "kernelspec": {
   "display_name": "Python 3 (ipykernel)",
   "language": "python",
   "name": "python3"
  },
  "language_info": {
   "codemirror_mode": {
    "name": "ipython",
    "version": 3
   },
   "file_extension": ".py",
   "mimetype": "text/x-python",
   "name": "python",
   "nbconvert_exporter": "python",
   "pygments_lexer": "ipython3",
   "version": "3.11.7"
  }
 },
 "nbformat": 4,
 "nbformat_minor": 5
}
