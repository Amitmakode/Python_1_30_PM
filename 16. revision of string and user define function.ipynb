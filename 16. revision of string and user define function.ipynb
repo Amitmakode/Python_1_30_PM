{
 "cells": [
  {
   "cell_type": "code",
   "execution_count": null,
   "id": "cea3df5d-d9fb-46b1-b510-b4e50971f4d9",
   "metadata": {},
   "outputs": [],
   "source": [
    "#A user will enter a number.\n",
    "#The program should check if the number is even or odd."
   ]
  },
  {
   "cell_type": "code",
   "execution_count": 3,
   "id": "c1ecda52-0f78-4b91-b543-29c5519ebb9a",
   "metadata": {},
   "outputs": [
    {
     "name": "stdin",
     "output_type": "stream",
     "text": [
      " 23\n"
     ]
    },
    {
     "name": "stdout",
     "output_type": "stream",
     "text": [
      "Number is odd\n"
     ]
    }
   ],
   "source": [
    "num = int(input())\n",
    "\n",
    "if num%2==0:\n",
    "    print(\"this num is even\")\n",
    "else:\n",
    "    print(\"Number is odd\")"
   ]
  },
  {
   "cell_type": "code",
   "execution_count": 8,
   "id": "112839be-5950-4a1f-baef-f52fcd1c4a44",
   "metadata": {},
   "outputs": [],
   "source": [
    "def check_even(num):\n",
    "    \"\"\"this is my function which \n",
    "    print even and odd numbers\"\"\"\n",
    "    try:\n",
    "        if num%2==0:\n",
    "            print(f\"{num} is even\")\n",
    "        else:\n",
    "            print(f\"{num} is odd\")\n",
    "    except Exception as e:\n",
    "        print(e)"
   ]
  },
  {
   "cell_type": "code",
   "execution_count": 7,
   "id": "ae06c911-91cc-42b6-a923-15715e5fe150",
   "metadata": {},
   "outputs": [
    {
     "name": "stdout",
     "output_type": "stream",
     "text": [
      "not all arguments converted during string formatting\n"
     ]
    }
   ],
   "source": [
    "check_even(\"41\")"
   ]
  },
  {
   "cell_type": "code",
   "execution_count": null,
   "id": "71a74065-e8d9-4c15-951b-4459dd4a082d",
   "metadata": {},
   "outputs": [],
   "source": []
  },
  {
   "cell_type": "code",
   "execution_count": null,
   "id": "6c38ae27-8966-4f1f-a000-2130710b6b4b",
   "metadata": {},
   "outputs": [],
   "source": []
  },
  {
   "cell_type": "raw",
   "id": "35c03fd4-510e-403d-8350-57bc24b19cc7",
   "metadata": {},
   "source": [
    "Problem: Check even or odd for multiple numbers\n",
    "The user will enter a list of numbers separated by commas (like: 10, 15, 20, 25).\n",
    "\n",
    "The function will check each number and print whether it’s even or odd.\n",
    "\n",
    "If the user enters any invalid value (like letters), it will handle the error using a try-except block."
   ]
  },
  {
   "cell_type": "code",
   "execution_count": 9,
   "id": "79f071cf-3bd1-4be4-987c-736ac134ba72",
   "metadata": {},
   "outputs": [],
   "source": [
    "def check_multiple_even():\n",
    "    try:\n",
    "        num_str = input(\"enter the numbers sep ,\")\n",
    "        numbers = num_str.split(\",\")\n",
    "\n",
    "        for n in numbers:\n",
    "            num = int(n.strip())\n",
    "            if num%2 ==0:\n",
    "                print(f\"{num} is even\")\n",
    "            else:\n",
    "                print(f\"{num} is odd\")\n",
    "    except Exception as e:\n",
    "        print(e)"
   ]
  },
  {
   "cell_type": "code",
   "execution_count": 12,
   "id": "55505a38-7d67-49fc-b13c-e182213664bd",
   "metadata": {},
   "outputs": [
    {
     "name": "stdin",
     "output_type": "stream",
     "text": [
      "enter the numbers sep , 23, 45, 44, asd, 66\n"
     ]
    },
    {
     "name": "stdout",
     "output_type": "stream",
     "text": [
      "23 is odd\n",
      "45 is odd\n",
      "44 is even\n",
      "invalid literal for int() with base 10: 'asd'\n"
     ]
    }
   ],
   "source": [
    "check_multiple_even()"
   ]
  },
  {
   "cell_type": "code",
   "execution_count": null,
   "id": "227ff914-1773-4ce2-8b06-07cf71964009",
   "metadata": {},
   "outputs": [],
   "source": []
  },
  {
   "cell_type": "code",
   "execution_count": null,
   "id": "00c3bee7-107c-4573-8ad4-fc4ac5c3d0ce",
   "metadata": {},
   "outputs": [],
   "source": [
    "#Find positive or negative numbers in a list"
   ]
  },
  {
   "cell_type": "code",
   "execution_count": 15,
   "id": "e83de919-f099-46af-a240-01e06bf5fc72",
   "metadata": {},
   "outputs": [],
   "source": [
    "def check_number_sign():\n",
    "    try:\n",
    "        input_str = input(\"Enter numbers separated by commas: \")\n",
    "        numbers = input_str.split(\",\")\n",
    "        \n",
    "        for n in numbers:\n",
    "            num = int(n.strip())\n",
    "            if num > 0:\n",
    "                print(f\"{num} is Positive.\")\n",
    "            elif num < 0:\n",
    "                print(f\"{num} is Negative.\")\n",
    "            else:\n",
    "                print(f\"{num} is Zero.\")\n",
    "    except ValueError:\n",
    "        print(\"Invalid input! Please enter numbers only.\")"
   ]
  },
  {
   "cell_type": "code",
   "execution_count": 16,
   "id": "1473d069-6cc2-4b45-b1d2-479cec8e05a3",
   "metadata": {},
   "outputs": [
    {
     "name": "stdin",
     "output_type": "stream",
     "text": [
      "Enter numbers separated by commas:  12, -33, 4, -40, -2, -13, 0\n"
     ]
    },
    {
     "name": "stdout",
     "output_type": "stream",
     "text": [
      "12 is Positive.\n",
      "-33 is Negative.\n",
      "4 is Positive.\n",
      "-40 is Negative.\n",
      "-2 is Negative.\n",
      "-13 is Negative.\n",
      "0 is Zero.\n"
     ]
    }
   ],
   "source": [
    "check_number_sign()"
   ]
  },
  {
   "cell_type": "markdown",
   "id": "fc496dfe-d9ac-4aeb-9cdf-174bb29cd912",
   "metadata": {},
   "source": [
    "### strig function"
   ]
  },
  {
   "cell_type": "code",
   "execution_count": 17,
   "id": "ccb52605-04d0-430d-af25-e2d6ecf0a253",
   "metadata": {},
   "outputs": [
    {
     "data": {
      "text/plain": [
       "'Invalid input! Please enter numbers only.'"
      ]
     },
     "execution_count": 17,
     "metadata": {},
     "output_type": "execute_result"
    }
   ],
   "source": [
    "var"
   ]
  },
  {
   "cell_type": "code",
   "execution_count": 18,
   "id": "f01c3693-4665-4b95-bbe6-39dc02119249",
   "metadata": {},
   "outputs": [
    {
     "data": {
      "text/plain": [
       "'Invalid input! please enter numbers only.'"
      ]
     },
     "execution_count": 18,
     "metadata": {},
     "output_type": "execute_result"
    }
   ],
   "source": [
    "var.capitalize()"
   ]
  },
  {
   "cell_type": "code",
   "execution_count": 19,
   "id": "0cef2cd0-8cc5-465f-990a-d4ef5f086dd5",
   "metadata": {},
   "outputs": [],
   "source": [
    "var_low = var.lower()"
   ]
  },
  {
   "cell_type": "code",
   "execution_count": 21,
   "id": "bbe18a09-a56c-4e0a-89ad-d8335f116e53",
   "metadata": {},
   "outputs": [
    {
     "data": {
      "text/plain": [
       "'Invalid input! please enter numbers only.'"
      ]
     },
     "execution_count": 21,
     "metadata": {},
     "output_type": "execute_result"
    }
   ],
   "source": [
    "var_low.capitalize()"
   ]
  },
  {
   "cell_type": "code",
   "execution_count": 23,
   "id": "99757494-fdee-4cbe-a386-75ab955e3d84",
   "metadata": {},
   "outputs": [
    {
     "data": {
      "text/plain": [
       "'Invalid Input! Please Enter Numbers Only.'"
      ]
     },
     "execution_count": 23,
     "metadata": {},
     "output_type": "execute_result"
    }
   ],
   "source": [
    "var_low.title()"
   ]
  },
  {
   "cell_type": "code",
   "execution_count": 24,
   "id": "f2719e05-c64e-4393-98e5-6eb5050dcb77",
   "metadata": {},
   "outputs": [
    {
     "data": {
      "text/plain": [
       "'INVALID INPUT! PLEASE ENTER NUMBERS ONLY.'"
      ]
     },
     "execution_count": 24,
     "metadata": {},
     "output_type": "execute_result"
    }
   ],
   "source": [
    "var.upper()"
   ]
  },
  {
   "cell_type": "code",
   "execution_count": 25,
   "id": "e0d3b47e-4a8a-4972-aabd-e19f4fb5bbeb",
   "metadata": {},
   "outputs": [
    {
     "data": {
      "text/plain": [
       "'Invalid input! Please enter numbers only.'"
      ]
     },
     "execution_count": 25,
     "metadata": {},
     "output_type": "execute_result"
    }
   ],
   "source": [
    "var"
   ]
  },
  {
   "cell_type": "code",
   "execution_count": 27,
   "id": "d873f8bb-5e15-4fbf-941b-41513e14d13e",
   "metadata": {},
   "outputs": [],
   "source": [
    "Title = \"First report 2025\""
   ]
  },
  {
   "cell_type": "code",
   "execution_count": 28,
   "id": "8f3637a6-f73e-410b-98fa-a88d69178d9e",
   "metadata": {},
   "outputs": [
    {
     "data": {
      "text/plain": [
       "'First report 2025'"
      ]
     },
     "execution_count": 28,
     "metadata": {},
     "output_type": "execute_result"
    }
   ],
   "source": [
    "Title"
   ]
  },
  {
   "cell_type": "code",
   "execution_count": 30,
   "id": "d8b40c1e-78d5-487a-9d47-655dbd1a99b9",
   "metadata": {},
   "outputs": [],
   "source": [
    "t= Title.title()"
   ]
  },
  {
   "cell_type": "code",
   "execution_count": 31,
   "id": "b186db36-f3e3-4ee4-91cf-ce95d01d8da4",
   "metadata": {},
   "outputs": [
    {
     "data": {
      "text/plain": [
       "'First Report 2025'"
      ]
     },
     "execution_count": 31,
     "metadata": {},
     "output_type": "execute_result"
    }
   ],
   "source": [
    "t"
   ]
  },
  {
   "cell_type": "code",
   "execution_count": 33,
   "id": "b0d9efe1-53f1-4fec-8aed-ccdecde3b557",
   "metadata": {},
   "outputs": [
    {
     "data": {
      "text/plain": [
       "'                                         First Report 2025                                          '"
      ]
     },
     "execution_count": 33,
     "metadata": {},
     "output_type": "execute_result"
    }
   ],
   "source": [
    "t.center(100)"
   ]
  },
  {
   "cell_type": "code",
   "execution_count": 39,
   "id": "eb663a52-c4ee-4422-a521-be80e30222c5",
   "metadata": {},
   "outputs": [],
   "source": [
    "tt = t.center(100, \"-\")"
   ]
  },
  {
   "cell_type": "code",
   "execution_count": 37,
   "id": "d6e80daa-4a24-4210-bf5b-44d9d33564c5",
   "metadata": {},
   "outputs": [
    {
     "data": {
      "text/plain": [
       "False"
      ]
     },
     "execution_count": 37,
     "metadata": {},
     "output_type": "execute_result"
    }
   ],
   "source": [
    "t.endswith(\"20\")"
   ]
  },
  {
   "cell_type": "code",
   "execution_count": 38,
   "id": "3d898549-3f43-46db-8bc3-414b578df720",
   "metadata": {},
   "outputs": [
    {
     "data": {
      "text/plain": [
       "True"
      ]
     },
     "execution_count": 38,
     "metadata": {},
     "output_type": "execute_result"
    }
   ],
   "source": [
    "t.endswith(\"2025\")"
   ]
  },
  {
   "cell_type": "code",
   "execution_count": 40,
   "id": "3a3d6303-c3bf-4b25-92ef-358aaf55c5e7",
   "metadata": {},
   "outputs": [
    {
     "data": {
      "text/plain": [
       "False"
      ]
     },
     "execution_count": 40,
     "metadata": {},
     "output_type": "execute_result"
    }
   ],
   "source": [
    "t.startswith(\"f\")"
   ]
  },
  {
   "cell_type": "code",
   "execution_count": 41,
   "id": "e710b7ec-4a47-430d-99c4-879460b2c117",
   "metadata": {},
   "outputs": [
    {
     "data": {
      "text/plain": [
       "True"
      ]
     },
     "execution_count": 41,
     "metadata": {},
     "output_type": "execute_result"
    }
   ],
   "source": [
    "t.startswith(\"F\")"
   ]
  },
  {
   "cell_type": "code",
   "execution_count": 43,
   "id": "8b8e66be-7697-433c-b4bc-6d3a7e95cdc1",
   "metadata": {},
   "outputs": [
    {
     "data": {
      "text/plain": [
       "'-----------------------------------------First Report 2025'"
      ]
     },
     "execution_count": 43,
     "metadata": {},
     "output_type": "execute_result"
    }
   ],
   "source": [
    "tt.rstrip(\"-\")"
   ]
  },
  {
   "cell_type": "code",
   "execution_count": 44,
   "id": "f2b19273-864e-4ffb-a821-6fca4edee05e",
   "metadata": {},
   "outputs": [
    {
     "data": {
      "text/plain": [
       "'First Report 2025------------------------------------------'"
      ]
     },
     "execution_count": 44,
     "metadata": {},
     "output_type": "execute_result"
    }
   ],
   "source": [
    "tt.lstrip(\"-\")"
   ]
  },
  {
   "cell_type": "code",
   "execution_count": 45,
   "id": "a85ab559-cb9b-43b3-a1fc-efaa924af9dc",
   "metadata": {},
   "outputs": [
    {
     "data": {
      "text/plain": [
       "'First Report 2025'"
      ]
     },
     "execution_count": 45,
     "metadata": {},
     "output_type": "execute_result"
    }
   ],
   "source": [
    "tt.strip(\"-\")"
   ]
  },
  {
   "cell_type": "code",
   "execution_count": 47,
   "id": "8c0734df-445d-4d32-a5ef-48805d4b883d",
   "metadata": {},
   "outputs": [
    {
     "data": {
      "text/plain": [
       "'Invalid input! Please enter numbers only.'"
      ]
     },
     "execution_count": 47,
     "metadata": {},
     "output_type": "execute_result"
    }
   ],
   "source": [
    "var"
   ]
  },
  {
   "cell_type": "code",
   "execution_count": 48,
   "id": "4ae64d4f-bf3b-4a56-bef0-6b47a083bbe4",
   "metadata": {},
   "outputs": [
    {
     "data": {
      "text/plain": [
       "('Invalid input! ', 'Please', ' enter numbers only.')"
      ]
     },
     "execution_count": 48,
     "metadata": {},
     "output_type": "execute_result"
    }
   ],
   "source": [
    "var.partition(\"Please\")"
   ]
  },
  {
   "cell_type": "code",
   "execution_count": 49,
   "id": "e706cb1a-5a50-49a0-91f6-c89d2115b609",
   "metadata": {},
   "outputs": [
    {
     "data": {
      "text/plain": [
       "'Invalid input! Please enter numbers only.'"
      ]
     },
     "execution_count": 49,
     "metadata": {},
     "output_type": "execute_result"
    }
   ],
   "source": [
    "var"
   ]
  },
  {
   "cell_type": "code",
   "execution_count": 50,
   "id": "60fb209f-96a8-42f3-bd4b-394d9ee822de",
   "metadata": {},
   "outputs": [
    {
     "data": {
      "text/plain": [
       "['Invalid', 'input!', 'Please', 'enter', 'numbers', 'only.']"
      ]
     },
     "execution_count": 50,
     "metadata": {},
     "output_type": "execute_result"
    }
   ],
   "source": [
    "var.split()"
   ]
  },
  {
   "cell_type": "code",
   "execution_count": 51,
   "id": "fb46e689-d2fc-4578-b67e-78087e9443ba",
   "metadata": {},
   "outputs": [
    {
     "data": {
      "text/plain": [
       "['Invalid input! Pl', 'as', ' ', 'nt', 'r numb', 'rs only.']"
      ]
     },
     "execution_count": 51,
     "metadata": {},
     "output_type": "execute_result"
    }
   ],
   "source": [
    "var.split(\"e\")"
   ]
  },
  {
   "cell_type": "code",
   "execution_count": 52,
   "id": "c7c3f01e-91e2-4d8e-af7f-89d4594d6945",
   "metadata": {},
   "outputs": [],
   "source": [
    "str1 = \"rohit;virat;hardik;ravindra;bumrah\""
   ]
  },
  {
   "cell_type": "code",
   "execution_count": 54,
   "id": "0d97a2e3-a0b8-433d-9da8-6db2754f12d6",
   "metadata": {},
   "outputs": [
    {
     "data": {
      "text/plain": [
       "['rohit', 'virat', 'hardik', 'ravindra', 'bumrah']"
      ]
     },
     "execution_count": 54,
     "metadata": {},
     "output_type": "execute_result"
    }
   ],
   "source": [
    "str1.split(\";\")"
   ]
  },
  {
   "cell_type": "code",
   "execution_count": 55,
   "id": "84a89f7a-f345-481e-9b28-7857d5ed4fc1",
   "metadata": {},
   "outputs": [
    {
     "data": {
      "text/plain": [
       "'Invalid input! Please enter numbers only.'"
      ]
     },
     "execution_count": 55,
     "metadata": {},
     "output_type": "execute_result"
    }
   ],
   "source": [
    "var"
   ]
  },
  {
   "cell_type": "code",
   "execution_count": 56,
   "id": "58c58670-8a61-4781-9bf2-2b04d34afc0d",
   "metadata": {},
   "outputs": [
    {
     "data": {
      "text/plain": [
       "5"
      ]
     },
     "execution_count": 56,
     "metadata": {},
     "output_type": "execute_result"
    }
   ],
   "source": [
    "var.count(\"e\")"
   ]
  },
  {
   "cell_type": "code",
   "execution_count": 57,
   "id": "98ae3e9f-4cc1-4ccf-82c7-13680baea5e4",
   "metadata": {},
   "outputs": [
    {
     "data": {
      "text/plain": [
       "15"
      ]
     },
     "execution_count": 57,
     "metadata": {},
     "output_type": "execute_result"
    }
   ],
   "source": [
    "var.find(\"P\")"
   ]
  },
  {
   "cell_type": "code",
   "execution_count": 58,
   "id": "44517933-b4a7-4580-bf44-a57da68d6721",
   "metadata": {},
   "outputs": [
    {
     "data": {
      "text/plain": [
       "'Invalid input! Please enter numbers only.'"
      ]
     },
     "execution_count": 58,
     "metadata": {},
     "output_type": "execute_result"
    }
   ],
   "source": [
    "var.removeprefix(\"invailid\")"
   ]
  },
  {
   "cell_type": "code",
   "execution_count": 60,
   "id": "e0bd9a42-42df-495b-9e10-15b2760950da",
   "metadata": {},
   "outputs": [
    {
     "data": {
      "text/plain": [
       "' input! Please enter numbers only.'"
      ]
     },
     "execution_count": 60,
     "metadata": {},
     "output_type": "execute_result"
    }
   ],
   "source": [
    "var.removeprefix(\"Invalid\")"
   ]
  },
  {
   "cell_type": "code",
   "execution_count": 62,
   "id": "fe666b79-41fd-448a-b276-59ef005b8529",
   "metadata": {},
   "outputs": [
    {
     "data": {
      "text/plain": [
       "'Invalid input! Please enter numbers'"
      ]
     },
     "execution_count": 62,
     "metadata": {},
     "output_type": "execute_result"
    }
   ],
   "source": [
    "var.removesuffix(\" only.\")"
   ]
  },
  {
   "cell_type": "code",
   "execution_count": 63,
   "id": "14de144b-ded3-4f9a-8c50-d5a229390031",
   "metadata": {},
   "outputs": [
    {
     "data": {
      "text/plain": [
       "'Invalid input! Please enter numbers only.'"
      ]
     },
     "execution_count": 63,
     "metadata": {},
     "output_type": "execute_result"
    }
   ],
   "source": [
    "var"
   ]
  },
  {
   "cell_type": "code",
   "execution_count": 65,
   "id": "06d1ed27-de50-40d5-a028-6397b84b9829",
   "metadata": {},
   "outputs": [],
   "source": [
    "case =var.replace(\"e\", \"E\")"
   ]
  },
  {
   "cell_type": "code",
   "execution_count": 66,
   "id": "6137dad4-6843-4742-8d6e-996e5ead4e77",
   "metadata": {},
   "outputs": [
    {
     "data": {
      "text/plain": [
       "'iNVALID INPUT! pLeASe eNTeR NUMBeRS ONLY.'"
      ]
     },
     "execution_count": 66,
     "metadata": {},
     "output_type": "execute_result"
    }
   ],
   "source": [
    "case.swapcase()"
   ]
  },
  {
   "cell_type": "code",
   "execution_count": 68,
   "id": "ef4ef398-dad7-4f2b-a0f3-4574b413c9ca",
   "metadata": {},
   "outputs": [],
   "source": [
    "l1 = ['Invalid', 'input!', 'Please', 'enter', 'numbers', 'only.']"
   ]
  },
  {
   "cell_type": "code",
   "execution_count": 71,
   "id": "0aeeff24-813c-41ee-8c18-bf3694219b55",
   "metadata": {},
   "outputs": [
    {
     "data": {
      "text/plain": [
       "'Invalid input! Please enter numbers only.'"
      ]
     },
     "execution_count": 71,
     "metadata": {},
     "output_type": "execute_result"
    }
   ],
   "source": [
    "\" \".join(l1)"
   ]
  },
  {
   "cell_type": "code",
   "execution_count": 72,
   "id": "265ada63-9486-4a6f-b64a-21f147a5be0e",
   "metadata": {},
   "outputs": [],
   "source": [
    "x = \"hello\""
   ]
  },
  {
   "cell_type": "code",
   "execution_count": 73,
   "id": "50d9fbf8-3f7e-4d2b-9366-f97394f2e4b8",
   "metadata": {},
   "outputs": [
    {
     "data": {
      "text/plain": [
       "True"
      ]
     },
     "execution_count": 73,
     "metadata": {},
     "output_type": "execute_result"
    }
   ],
   "source": [
    "x.isalpha()"
   ]
  },
  {
   "cell_type": "code",
   "execution_count": 74,
   "id": "91578fa5-c970-48ae-a37e-1666c9816b9d",
   "metadata": {},
   "outputs": [],
   "source": [
    "x = \"hello \""
   ]
  },
  {
   "cell_type": "code",
   "execution_count": 75,
   "id": "c8d5f352-df68-4596-aadb-b80ce04246b7",
   "metadata": {},
   "outputs": [
    {
     "data": {
      "text/plain": [
       "False"
      ]
     },
     "execution_count": 75,
     "metadata": {},
     "output_type": "execute_result"
    }
   ],
   "source": [
    "x.isalpha()"
   ]
  },
  {
   "cell_type": "code",
   "execution_count": 76,
   "id": "10f66870-53c0-404c-8cd9-545ad08db175",
   "metadata": {},
   "outputs": [],
   "source": [
    "x = \"hello123\""
   ]
  },
  {
   "cell_type": "code",
   "execution_count": 77,
   "id": "397e5019-aee6-4048-b6d7-e080f385ba33",
   "metadata": {},
   "outputs": [
    {
     "data": {
      "text/plain": [
       "True"
      ]
     },
     "execution_count": 77,
     "metadata": {},
     "output_type": "execute_result"
    }
   ],
   "source": [
    "x.isalnum()"
   ]
  },
  {
   "cell_type": "code",
   "execution_count": 78,
   "id": "76921054-94e7-48d3-9264-3704736a0a73",
   "metadata": {},
   "outputs": [
    {
     "data": {
      "text/plain": [
       "False"
      ]
     },
     "execution_count": 78,
     "metadata": {},
     "output_type": "execute_result"
    }
   ],
   "source": [
    "x.isnumeric()"
   ]
  },
  {
   "cell_type": "code",
   "execution_count": 81,
   "id": "26179a06-8350-42ed-bd12-2f9c4e92f08b",
   "metadata": {},
   "outputs": [],
   "source": [
    "y = \"   3 \""
   ]
  },
  {
   "cell_type": "code",
   "execution_count": 82,
   "id": "9cbdc125-1fb7-4fbc-9035-05ff2571a6ee",
   "metadata": {},
   "outputs": [
    {
     "data": {
      "text/plain": [
       "False"
      ]
     },
     "execution_count": 82,
     "metadata": {},
     "output_type": "execute_result"
    }
   ],
   "source": [
    "y.isspace()"
   ]
  },
  {
   "cell_type": "code",
   "execution_count": 83,
   "id": "e3fada38-9664-4a22-8e16-779b82204be7",
   "metadata": {},
   "outputs": [],
   "source": [
    "def check_titel(str):\n",
    "    if str.istitle():\n",
    "        print(f\"{str} is in title form\")\n",
    "    else:\n",
    "        print(f\"{str} is in normal character\")"
   ]
  },
  {
   "cell_type": "code",
   "execution_count": 84,
   "id": "7fdde4e2-8be4-4a71-80d9-aab1cc334952",
   "metadata": {},
   "outputs": [
    {
     "name": "stdout",
     "output_type": "stream",
     "text": [
      "heading is in normal character\n"
     ]
    }
   ],
   "source": [
    "check_titel(\"heading\")"
   ]
  },
  {
   "cell_type": "code",
   "execution_count": 87,
   "id": "073c93b1-7ca9-4433-b31f-4c950c5ab04b",
   "metadata": {},
   "outputs": [
    {
     "name": "stdout",
     "output_type": "stream",
     "text": [
      "Heading Report is in title form\n"
     ]
    }
   ],
   "source": [
    "check_titel(\"Heading Report\")"
   ]
  },
  {
   "cell_type": "code",
   "execution_count": 93,
   "id": "ad4b99a5-d10d-436b-a564-42a0b45f0108",
   "metadata": {},
   "outputs": [],
   "source": [
    "def check_capitalize(str):\n",
    "    if str.islower():\n",
    "        str1 = str.capitalize()\n",
    "        print(f\"{str1} ---converted string\")\n",
    "    else:\n",
    "        print(f\"{str} --already in capital letter\")"
   ]
  },
  {
   "cell_type": "code",
   "execution_count": 94,
   "id": "9687ce17-2b98-4f25-993e-4db4c1c0fce0",
   "metadata": {},
   "outputs": [
    {
     "name": "stdout",
     "output_type": "stream",
     "text": [
      "Pyhton ---converted string\n"
     ]
    }
   ],
   "source": [
    "check_capitalize(\"pyhton\")"
   ]
  },
  {
   "cell_type": "code",
   "execution_count": 95,
   "id": "1381f362-9dd4-4af6-bf3e-54ed8a404535",
   "metadata": {},
   "outputs": [
    {
     "name": "stdout",
     "output_type": "stream",
     "text": [
      "Pyhton --already in capital letter\n"
     ]
    }
   ],
   "source": [
    "check_capitalize(\"Pyhton\")"
   ]
  },
  {
   "cell_type": "code",
   "execution_count": null,
   "id": "66256e65-b373-4183-aae1-12687907de42",
   "metadata": {},
   "outputs": [],
   "source": []
  }
 ],
 "metadata": {
  "kernelspec": {
   "display_name": "Python 3 (ipykernel)",
   "language": "python",
   "name": "python3"
  },
  "language_info": {
   "codemirror_mode": {
    "name": "ipython",
    "version": 3
   },
   "file_extension": ".py",
   "mimetype": "text/x-python",
   "name": "python",
   "nbconvert_exporter": "python",
   "pygments_lexer": "ipython3",
   "version": "3.11.7"
  }
 },
 "nbformat": 4,
 "nbformat_minor": 5
}
