{
  "nbformat": 4,
  "nbformat_minor": 0,
  "metadata": {
    "colab": {
      "provenance": []
    },
    "kernelspec": {
      "name": "python3",
      "display_name": "Python 3"
    },
    "language_info": {
      "name": "python"
    }
  },
  "cells": [
    {
      "cell_type": "code",
      "execution_count": 1,
      "metadata": {
        "id": "4FbCIkufKONj"
      },
      "outputs": [],
      "source": [
        "import re"
      ]
    },
    {
      "cell_type": "code",
      "source": [
        "#Search the string to see if it starts with \"The\" and ends with \"Spain\":#\n",
        "\n",
        "txt = \"The rain in Spain\"\n",
        "x = re.search(\"^The.*Spain$\", txt)\n",
        "print(x)"
      ],
      "metadata": {
        "colab": {
          "base_uri": "https://localhost:8080/"
        },
        "id": "vwQst8kIKcsj",
        "outputId": "3508214f-9dec-487a-ca84-cb47d928192a"
      },
      "execution_count": 6,
      "outputs": [
        {
          "output_type": "stream",
          "name": "stdout",
          "text": [
            "<re.Match object; span=(0, 17), match='The rain in Spain'>\n"
          ]
        }
      ]
    },
    {
      "cell_type": "markdown",
      "source": [
        "# The re module offers a set of functions that allows us to search a string for a match:"
      ],
      "metadata": {
        "id": "YyeXZ6ZYK6WK"
      }
    },
    {
      "cell_type": "markdown",
      "source": [
        "##findall =\tReturns a list containing all matches\n",
        "##search\t=Returns a Match object if there is a match anywhere in the string\n",
        "##split\t=Returns a list where the string has been split at each match\n",
        "##sub\t=Replaces one or many matches with a string"
      ],
      "metadata": {
        "id": "Xrz2dN6GK83j"
      }
    },
    {
      "cell_type": "code",
      "source": [
        "txt = \"The rain in Spain\"\n",
        "x = re.findall(\"ai\", txt)\n",
        "print(x)"
      ],
      "metadata": {
        "colab": {
          "base_uri": "https://localhost:8080/"
        },
        "id": "FXBnq-EjKgOX",
        "outputId": "d4475353-772b-40f7-9a1e-da9884f99334"
      },
      "execution_count": 7,
      "outputs": [
        {
          "output_type": "stream",
          "name": "stdout",
          "text": [
            "['ai', 'ai']\n"
          ]
        }
      ]
    },
    {
      "cell_type": "code",
      "source": [
        "txt = \"The rain in Spain\"\n",
        "x = re.search(\"\\s\", txt)\n",
        "\n",
        "print(\"The first white-space character is located in position:\", x.start())"
      ],
      "metadata": {
        "colab": {
          "base_uri": "https://localhost:8080/"
        },
        "id": "eylyh8bRNVFs",
        "outputId": "fa6c5b10-e36e-459a-b0b4-6639a89667d2"
      },
      "execution_count": 8,
      "outputs": [
        {
          "output_type": "stream",
          "name": "stdout",
          "text": [
            "The first white-space character is located in position: 3\n"
          ]
        }
      ]
    },
    {
      "cell_type": "code",
      "source": [
        "txt = \"The rain in Spain\"\n",
        "x = re.split(\"\\s\", txt)\n",
        "print(x)"
      ],
      "metadata": {
        "colab": {
          "base_uri": "https://localhost:8080/"
        },
        "id": "vgX6pjmkNiVb",
        "outputId": "7e4c7b0f-5d22-4400-aef5-a24d1874e609"
      },
      "execution_count": 9,
      "outputs": [
        {
          "output_type": "stream",
          "name": "stdout",
          "text": [
            "['The', 'rain', 'in', 'Spain']\n"
          ]
        }
      ]
    },
    {
      "cell_type": "code",
      "source": [
        "#Split the string only at the first occurrence\n",
        "\n",
        "txt = \"The rain in Spain\"\n",
        "x = re.split(\"\\s\", txt, 1)\n",
        "print(x)"
      ],
      "metadata": {
        "colab": {
          "base_uri": "https://localhost:8080/"
        },
        "id": "ZeExkte_Nyio",
        "outputId": "65c9e26e-07e4-4c11-8f2a-cd1dc7f3b8c0"
      },
      "execution_count": 13,
      "outputs": [
        {
          "output_type": "stream",
          "name": "stdout",
          "text": [
            "['The', 'rain in Spain']\n"
          ]
        }
      ]
    },
    {
      "cell_type": "code",
      "source": [
        "txt = \"The rain in Spain\"\n",
        "x = re.sub(\"\\s\", \"9\", txt)\n",
        "print(x)"
      ],
      "metadata": {
        "colab": {
          "base_uri": "https://localhost:8080/"
        },
        "id": "-ILMEC-5N3ds",
        "outputId": "9953e9dd-c390-4a40-9ae4-e8fb61ed7f5a"
      },
      "execution_count": 14,
      "outputs": [
        {
          "output_type": "stream",
          "name": "stdout",
          "text": [
            "The9rain9in9Spain\n"
          ]
        }
      ]
    },
    {
      "cell_type": "code",
      "source": [
        "txt = \"The rain in Spain\"\n",
        "x = re.sub(\"\\s\", \"9\", txt, 2)\n",
        "print(x)"
      ],
      "metadata": {
        "colab": {
          "base_uri": "https://localhost:8080/"
        },
        "id": "1BCpyyVbODcq",
        "outputId": "b50feb61-da74-4371-9c90-5c1e559222fa"
      },
      "execution_count": 15,
      "outputs": [
        {
          "output_type": "stream",
          "name": "stdout",
          "text": [
            "The9rain9in Spain\n"
          ]
        }
      ]
    },
    {
      "cell_type": "code",
      "source": [
        "txt = \"The rain in Spain\"\n",
        "x = re.search(\"ai\", txt)\n",
        "print(x) #this will print an object"
      ],
      "metadata": {
        "colab": {
          "base_uri": "https://localhost:8080/"
        },
        "id": "jdSk_5o8OLAt",
        "outputId": "f80e160e-867c-43d3-a12f-e03582f7661b"
      },
      "execution_count": 18,
      "outputs": [
        {
          "output_type": "stream",
          "name": "stdout",
          "text": [
            "<re.Match object; span=(5, 7), match='ai'>\n"
          ]
        }
      ]
    },
    {
      "cell_type": "code",
      "source": [
        "# .span() returns a tuple containing the start-, and end positions of the match.\n",
        "# .string returns the string passed into the function\n",
        "# .group() returns the part of the string where there was a match"
      ],
      "metadata": {
        "id": "6DNMOjsAOM92"
      },
      "execution_count": 19,
      "outputs": []
    },
    {
      "cell_type": "code",
      "source": [
        "txt = \"The rain in Spain\"\n",
        "x = re.search(r\"\\bS\\w+\", txt)\n",
        "print(x.span())\n",
        "\n",
        "# Raw String = r\"\\bS\\w+\""
      ],
      "metadata": {
        "colab": {
          "base_uri": "https://localhost:8080/"
        },
        "id": "R5BaO_VNOZuc",
        "outputId": "8e9edddc-72d4-498f-d533-d8e486c72c21"
      },
      "execution_count": 20,
      "outputs": [
        {
          "output_type": "stream",
          "name": "stdout",
          "text": [
            "(12, 17)\n"
          ]
        }
      ]
    },
    {
      "cell_type": "code",
      "source": [
        "txt = \"The rain in Spain\"\n",
        "x = re.search(r\"\\bS\\w+\", txt)\n",
        "print(x.string)"
      ],
      "metadata": {
        "colab": {
          "base_uri": "https://localhost:8080/"
        },
        "id": "qHijBu-JOb1w",
        "outputId": "e6cdc5b1-6007-48c4-fe41-7bdebb7968ce"
      },
      "execution_count": 21,
      "outputs": [
        {
          "output_type": "stream",
          "name": "stdout",
          "text": [
            "The rain in Spain\n"
          ]
        }
      ]
    },
    {
      "cell_type": "code",
      "source": [
        "txt = \"The rain in Spain\"\n",
        "x = re.search(r\"\\bS\\w+\", txt)\n",
        "print(x.group())"
      ],
      "metadata": {
        "colab": {
          "base_uri": "https://localhost:8080/"
        },
        "id": "Dcy3z21eOhH9",
        "outputId": "b8ce6039-c949-4cdf-89ba-d35e3fd62839"
      },
      "execution_count": 22,
      "outputs": [
        {
          "output_type": "stream",
          "name": "stdout",
          "text": [
            "Spain\n"
          ]
        }
      ]
    },
    {
      "cell_type": "code",
      "source": [
        "text = \"Contact us at support@example.com or sales@mydomain.org\"\n",
        "emails = re.findall(r'\\b[\\w.-]+@[\\w.-]+\\.\\w+\\b', text)\n",
        "print(emails)\n",
        "\n",
        "# r'\\b\\w+@\\w+\\.\\w+'\n",
        "# OR\n",
        "# '\\\\b\\\\w+@\\\\w+\\\\.\\\\w+'"
      ],
      "metadata": {
        "colab": {
          "base_uri": "https://localhost:8080/"
        },
        "id": "IXh5MQTUOmh3",
        "outputId": "a11409cb-8ed9-4733-f6e7-b6997d23915e"
      },
      "execution_count": 23,
      "outputs": [
        {
          "output_type": "stream",
          "name": "stdout",
          "text": [
            "['support@example.com', 'sales@mydomain.org']\n"
          ]
        }
      ]
    },
    {
      "cell_type": "code",
      "source": [
        "text = \"Call me at 9876543210 or 919876543210.\"\n",
        "phones = re.findall(r'\\b(?:\\+91|91)?[6-9]\\d{9}\\b', text)\n",
        "print(phones)"
      ],
      "metadata": {
        "colab": {
          "base_uri": "https://localhost:8080/"
        },
        "id": "foXkbndaPgfi",
        "outputId": "c20b0f2e-cf96-40d9-b415-0bd3a42a88be"
      },
      "execution_count": 24,
      "outputs": [
        {
          "output_type": "stream",
          "name": "stdout",
          "text": [
            "['9876543210', '919876543210']\n"
          ]
        }
      ]
    },
    {
      "cell_type": "code",
      "source": [
        "# Validate if a String is a Strong Password\n",
        "password = \"My$tr0ngP@ss\"\n",
        "pattern = r'^(?=.*[A-Z])(?=.*[a-z])(?=.*\\d)(?=.*[@$#]).{8,}$'\n",
        "print(bool(re.match(pattern, password)))\n",
        "\n",
        "#Checks for uppercase, lowercase, digit, special character, and min length."
      ],
      "metadata": {
        "colab": {
          "base_uri": "https://localhost:8080/"
        },
        "id": "ctnPJiZ2Sp2q",
        "outputId": "b63146b9-664c-4b22-908e-92813000d5ec"
      },
      "execution_count": 25,
      "outputs": [
        {
          "output_type": "stream",
          "name": "stdout",
          "text": [
            "True\n"
          ]
        }
      ]
    },
    {
      "cell_type": "code",
      "source": [
        "#Find Dates in dd-mm-yyyy Format\n",
        "text = \"The events are on 21-06-2025 and 15-08-2024.\"\n",
        "dates = re.findall(r'\\b\\d{2}-\\d{2}-\\d{4}\\b', text)\n",
        "print(dates)\n"
      ],
      "metadata": {
        "colab": {
          "base_uri": "https://localhost:8080/"
        },
        "id": "Qv0IDqw5a9NM",
        "outputId": "90f80204-e5b7-426a-876b-3f096a90742d"
      },
      "execution_count": 26,
      "outputs": [
        {
          "output_type": "stream",
          "name": "stdout",
          "text": [
            "['21-06-2025', '15-08-2024']\n"
          ]
        }
      ]
    },
    {
      "cell_type": "code",
      "source": [
        "#Extract All Hashtags from Social Media Post\n",
        "\n",
        "text = \"Loving the #Python #Regex #DataScience journey!\"\n",
        "hashtags = re.findall(r'#\\w+', text)\n",
        "print(hashtags)\n",
        "\n"
      ],
      "metadata": {
        "colab": {
          "base_uri": "https://localhost:8080/"
        },
        "id": "vwKg_0fcbboq",
        "outputId": "06d79b0e-a9a7-460d-f0f0-6ec38be1eba1"
      },
      "execution_count": 28,
      "outputs": [
        {
          "output_type": "stream",
          "name": "stdout",
          "text": [
            "['#Python', '#Regex', '#DataScience']\n"
          ]
        }
      ]
    },
    {
      "cell_type": "code",
      "source": [
        "#Check if a String is a Valid PAN Number\n",
        "\n",
        "pan = \"ABCDE1234F\"\n",
        "pattern = r'^[A-Z]{5}[0-9]{4}[A-Z]$'\n",
        "print(bool(re.match(pattern, pan)))\n"
      ],
      "metadata": {
        "colab": {
          "base_uri": "https://localhost:8080/"
        },
        "id": "U-Vewr0Obkih",
        "outputId": "32706249-cb13-4cbf-d21f-9f319ea269d3"
      },
      "execution_count": 31,
      "outputs": [
        {
          "output_type": "stream",
          "name": "stdout",
          "text": [
            "True\n"
          ]
        }
      ]
    },
    {
      "cell_type": "code",
      "source": [
        "#Extract All URLs from a Paragraph\n",
        "\n",
        "text = \"Visit https://google.com or http://example.org/page\"\n",
        "urls = re.findall(r'https?://[^\\s]+', text)\n",
        "print(urls)\n"
      ],
      "metadata": {
        "colab": {
          "base_uri": "https://localhost:8080/"
        },
        "id": "uNZMPhIubt1Y",
        "outputId": "d446d2ba-fe3e-4f16-c428-7525c6c36b01"
      },
      "execution_count": 32,
      "outputs": [
        {
          "output_type": "stream",
          "name": "stdout",
          "text": [
            "['https://google.com', 'http://example.org/page']\n"
          ]
        }
      ]
    },
    {
      "cell_type": "code",
      "source": [
        "# Remove Extra Spaces from Text\n",
        "\n",
        "text = \"Python    is   great   for  data  science.\"\n",
        "cleaned = re.sub(r'\\s+', ' ', text)\n",
        "print(cleaned)\n"
      ],
      "metadata": {
        "colab": {
          "base_uri": "https://localhost:8080/"
        },
        "id": "3Ds-ChnJcE67",
        "outputId": "c23d2021-a2d7-4669-d0be-810ee998e47a"
      },
      "execution_count": 33,
      "outputs": [
        {
          "output_type": "stream",
          "name": "stdout",
          "text": [
            "Python is great for data science.\n"
          ]
        }
      ]
    },
    {
      "cell_type": "code",
      "source": [
        "#Extract First Name and Last Name from Full Name\n",
        "\n",
        "name = \"John Doe\"\n",
        "match = re.match(r'^(\\w+)\\s+(\\w+)$', name)\n",
        "if match:\n",
        "    print(\"First Name:\", match.group(1))\n",
        "    print(\"Last Name:\", match.group(2))\n"
      ],
      "metadata": {
        "colab": {
          "base_uri": "https://localhost:8080/"
        },
        "id": "FG91HuXicUdP",
        "outputId": "26f3eb85-6b4b-406a-f448-7d6b13d6297a"
      },
      "execution_count": 34,
      "outputs": [
        {
          "output_type": "stream",
          "name": "stdout",
          "text": [
            "First Name: John\n",
            "Last Name: Doe\n"
          ]
        }
      ]
    },
    {
      "cell_type": "code",
      "source": [
        "#Find All Words Starting with Capital Letters\n",
        "\n",
        "text = \"India is a beautiful Country with the Taj Mahal in Agra.\"\n",
        "caps = re.findall(r'\\b[A-Z][a-z]*\\b', text)\n",
        "print(caps)\n"
      ],
      "metadata": {
        "colab": {
          "base_uri": "https://localhost:8080/"
        },
        "id": "ccnKy_02ccxV",
        "outputId": "4f43a288-37e0-4453-c424-0615524e0e70"
      },
      "execution_count": 36,
      "outputs": [
        {
          "output_type": "stream",
          "name": "stdout",
          "text": [
            "['India', 'Country', 'Taj', 'Mahal', 'Agra']\n"
          ]
        }
      ]
    },
    {
      "cell_type": "code",
      "source": [
        "#Scenario: Extract Valid US Street Addresses from a Paragraph\n",
        "\n",
        "\n",
        "text = \"\"\"\n",
        "Please send the package to 123 Main St or to our branch at 42B 2nd Avenue.\n",
        "Our HQ is located at 4001 Elm Street Apt 5, and a new office opened at 789-B Sunset Blvd.\n",
        "\"\"\"\n",
        "\n",
        "pattern = r'\\b\\d{1,5}[A-Za-z\\-]*\\s+[0-9A-Za-z]+\\s+(?:Street|St|Avenue|Ave|Road|Rd|Blvd|Boulevard)(?:\\s+\\w+\\s*\\d*)?\\b'\n",
        "\n",
        "matches = re.findall(pattern, text)\n",
        "for match in matches:\n",
        "    print(\"📦 Found address:\", match)\n"
      ],
      "metadata": {
        "colab": {
          "base_uri": "https://localhost:8080/"
        },
        "id": "eonPJaozclQ9",
        "outputId": "e08b9f6e-4d16-4710-a51b-96de4487eb51"
      },
      "execution_count": 37,
      "outputs": [
        {
          "output_type": "stream",
          "name": "stdout",
          "text": [
            "📦 Found address: 123 Main St or \n",
            "📦 Found address: 42B 2nd Avenue\n",
            "📦 Found address: 4001 Elm Street Apt 5\n",
            "📦 Found address: 789-B Sunset Blvd\n"
          ]
        }
      ]
    },
    {
      "cell_type": "code",
      "source": [],
      "metadata": {
        "id": "eUtxNaVRd2Ku"
      },
      "execution_count": null,
      "outputs": []
    }
  ]
}