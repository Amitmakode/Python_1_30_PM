{
 "cells": [
  {
   "cell_type": "markdown",
   "id": "25fcb527-ce53-4467-aa3b-16298d4d5677",
   "metadata": {},
   "source": [
    "## Logging"
   ]
  },
  {
   "cell_type": "code",
   "execution_count": null,
   "id": "aac17393-0214-439a-9dc6-9aa4fbdf37dd",
   "metadata": {},
   "outputs": [],
   "source": [
    "logging.DEBUG\n",
    "logging.info\n",
    "logging.warning\n",
    "logging.error\n",
    "logging.critical"
   ]
  },
  {
   "cell_type": "code",
   "execution_count": null,
   "id": "33506ab4-d9a1-443b-b345-d870e6093592",
   "metadata": {},
   "outputs": [],
   "source": [
    "DEBUG 10\n",
    "info 20\n",
    "warning 30\n",
    "error 40\n",
    "critical 50"
   ]
  },
  {
   "cell_type": "code",
   "execution_count": 1,
   "id": "2a31c577-fc26-4869-95ee-de03e3ce0765",
   "metadata": {},
   "outputs": [],
   "source": [
    "import logging "
   ]
  },
  {
   "cell_type": "code",
   "execution_count": 2,
   "id": "9a455ae3-59fb-49f1-b66a-a12eab362607",
   "metadata": {},
   "outputs": [],
   "source": [
    "logging.basicConfig(filename= \"logfile.txt\", level= logging.DEBUG, format= \"%(asctime)s %(levelname)s %(message)s\")"
   ]
  },
  {
   "cell_type": "code",
   "execution_count": 3,
   "id": "3f77f14f-dfe2-451a-a6a7-768dec6bb46c",
   "metadata": {},
   "outputs": [
    {
     "name": "stdout",
     "output_type": "stream",
     "text": [
      "basic file confrigation\n"
     ]
    }
   ],
   "source": [
    "var = \"basic file confrigation\"\n",
    "logging.info(\"my first log\")\n",
    "print(var)"
   ]
  },
  {
   "cell_type": "code",
   "execution_count": 4,
   "id": "678d9bf3-4348-4432-9368-f26b42708846",
   "metadata": {},
   "outputs": [],
   "source": [
    "l = [[1, 2, 3, 4], (2, 3, 4, 5, 6), (3, 4, 5, 6, 7), [23, 4, 5, 45, 4, 3, 5, 45, 45, 4, 5]]"
   ]
  },
  {
   "cell_type": "code",
   "execution_count": 5,
   "id": "dc3b2324-fa38-46a3-a839-cbbe1f51e200",
   "metadata": {},
   "outputs": [
    {
     "data": {
      "text/plain": [
       "[[1, 2, 3, 4],\n",
       " (2, 3, 4, 5, 6),\n",
       " (3, 4, 5, 6, 7),\n",
       " [23, 4, 5, 45, 4, 3, 5, 45, 45, 4, 5]]"
      ]
     },
     "execution_count": 5,
     "metadata": {},
     "output_type": "execute_result"
    }
   ],
   "source": [
    "l"
   ]
  },
  {
   "cell_type": "code",
   "execution_count": 6,
   "id": "6c5b159a-3132-440d-93b5-95b766120bbc",
   "metadata": {},
   "outputs": [
    {
     "name": "stdout",
     "output_type": "stream",
     "text": [
      "[1, 2, 3, 4]\n",
      "[23, 4, 5, 45, 4, 3, 5, 45, 45, 4, 5]\n"
     ]
    }
   ],
   "source": [
    "try:\n",
    "    for i in l:\n",
    "        logging.info(\"Loop begin\")\n",
    "        if type(i) == list:\n",
    "            print(i)\n",
    "            logging.info(\"Output is there\")\n",
    "except Exception as e:\n",
    "    print(e)\n",
    "    logging.exception(e, \" Please enter iterable collections like :- lists, tuples, set, dictionary\")"
   ]
  },
  {
   "cell_type": "code",
   "execution_count": 13,
   "id": "fab6bda2-e0d2-4412-9c6f-7496961b1d78",
   "metadata": {},
   "outputs": [
    {
     "name": "stdin",
     "output_type": "stream",
     "text": [
      " 2\n"
     ]
    },
    {
     "name": "stdout",
     "output_type": "stream",
     "text": [
      "10.0\n"
     ]
    }
   ],
   "source": [
    "try:\n",
    "    a = int(input())\n",
    "    logging.info(\"taking input from user\")\n",
    "    logging.info(a)\n",
    "    b = 20\n",
    "    c = b/a\n",
    "    print(c)\n",
    "    logging.info(\"result\")\n",
    "except Exception as e:\n",
    "    print(e)\n",
    "    logging.exception(e)"
   ]
  },
  {
   "cell_type": "code",
   "execution_count": null,
   "id": "9ae4333e-0f4e-478b-9b4f-8575d72c1d51",
   "metadata": {},
   "outputs": [],
   "source": []
  }
 ],
 "metadata": {
  "kernelspec": {
   "display_name": "Python 3 (ipykernel)",
   "language": "python",
   "name": "python3"
  },
  "language_info": {
   "codemirror_mode": {
    "name": "ipython",
    "version": 3
   },
   "file_extension": ".py",
   "mimetype": "text/x-python",
   "name": "python",
   "nbconvert_exporter": "python",
   "pygments_lexer": "ipython3",
   "version": "3.11.7"
  }
 },
 "nbformat": 4,
 "nbformat_minor": 5
}
