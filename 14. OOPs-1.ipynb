{
 "cells": [
  {
   "cell_type": "code",
   "execution_count": 1,
   "id": "85bcdfaf-de6f-4ea9-968b-1e84550a2f35",
   "metadata": {},
   "outputs": [],
   "source": [
    "class person:\n",
    "     def __init__ (self, name, lastname, age):\n",
    "         self.name = name\n",
    "         self.lastname = lastname\n",
    "         self.age = age\n",
    "         "
   ]
  },
  {
   "cell_type": "code",
   "execution_count": 3,
   "id": "3111019f-a664-4123-a89c-7bfc8c8e04b8",
   "metadata": {},
   "outputs": [],
   "source": [
    "object = person(\"rohit\", \"sharma\", 37)"
   ]
  },
  {
   "cell_type": "code",
   "execution_count": 4,
   "id": "73aa7b8b-f236-41b0-b9b2-7f0423a1f10b",
   "metadata": {},
   "outputs": [
    {
     "data": {
      "text/plain": [
       "'rohit'"
      ]
     },
     "execution_count": 4,
     "metadata": {},
     "output_type": "execute_result"
    }
   ],
   "source": [
    "object.name"
   ]
  },
  {
   "cell_type": "code",
   "execution_count": 5,
   "id": "3c0602ca-78c3-476a-be44-1d10147cec01",
   "metadata": {},
   "outputs": [
    {
     "data": {
      "text/plain": [
       "37"
      ]
     },
     "execution_count": 5,
     "metadata": {},
     "output_type": "execute_result"
    }
   ],
   "source": [
    "object.age"
   ]
  },
  {
   "cell_type": "code",
   "execution_count": 6,
   "id": "f57a940b-cbea-49ee-8299-a86afb826341",
   "metadata": {},
   "outputs": [],
   "source": [
    "object1 = person(\"viart\", \"kohli\", 38)"
   ]
  },
  {
   "cell_type": "code",
   "execution_count": 7,
   "id": "b0134da5-1a4b-4c95-86ae-98eaa093bce5",
   "metadata": {},
   "outputs": [
    {
     "data": {
      "text/plain": [
       "'kohli'"
      ]
     },
     "execution_count": 7,
     "metadata": {},
     "output_type": "execute_result"
    }
   ],
   "source": [
    "object1.lastname"
   ]
  },
  {
   "cell_type": "code",
   "execution_count": 8,
   "id": "b648aa7d-2dd0-40f0-95a7-f08b449a8af3",
   "metadata": {},
   "outputs": [
    {
     "name": "stdout",
     "output_type": "stream",
     "text": [
      "Requirement already satisfied: pandas in c:\\users\\amitm\\anaconda3\\lib\\site-packages (2.1.4)\n",
      "Requirement already satisfied: numpy<2,>=1.23.2 in c:\\users\\amitm\\anaconda3\\lib\\site-packages (from pandas) (1.26.4)\n",
      "Requirement already satisfied: python-dateutil>=2.8.2 in c:\\users\\amitm\\anaconda3\\lib\\site-packages (from pandas) (2.8.2)\n",
      "Requirement already satisfied: pytz>=2020.1 in c:\\users\\amitm\\anaconda3\\lib\\site-packages (from pandas) (2023.3.post1)\n",
      "Requirement already satisfied: tzdata>=2022.1 in c:\\users\\amitm\\anaconda3\\lib\\site-packages (from pandas) (2023.3)\n",
      "Requirement already satisfied: six>=1.5 in c:\\users\\amitm\\anaconda3\\lib\\site-packages (from python-dateutil>=2.8.2->pandas) (1.16.0)\n"
     ]
    }
   ],
   "source": [
    "!pip install pandas"
   ]
  },
  {
   "cell_type": "code",
   "execution_count": 9,
   "id": "f695110b-7123-4a4c-8281-9c00045080b3",
   "metadata": {},
   "outputs": [],
   "source": [
    "import pandas as pd  #alias"
   ]
  },
  {
   "cell_type": "code",
   "execution_count": null,
   "id": "93658c34-b2b3-4dc8-a7ab-fd9482b241b8",
   "metadata": {},
   "outputs": [],
   "source": [
    "pd.arrays.TimedeltaArray.median"
   ]
  },
  {
   "cell_type": "code",
   "execution_count": 13,
   "id": "3186ef13-8963-438e-b85c-af79aad0a523",
   "metadata": {},
   "outputs": [],
   "source": [
    "class person2 :\n",
    "    \n",
    "    def __init__ (self, name, lastname, age):\n",
    "        self.name = name\n",
    "        self.lastname = lastname\n",
    "        self.age = age\n",
    "\n",
    "    def __init__ (self, name, age):\n",
    "        self.name = name\n",
    "        self.age = age"
   ]
  },
  {
   "cell_type": "code",
   "execution_count": 14,
   "id": "c33751f9-39e4-47ce-a3a1-64e5c2c12d5e",
   "metadata": {},
   "outputs": [
    {
     "ename": "TypeError",
     "evalue": "person2.__init__() takes 3 positional arguments but 4 were given",
     "output_type": "error",
     "traceback": [
      "\u001b[1;31m---------------------------------------------------------------------------\u001b[0m",
      "\u001b[1;31mTypeError\u001b[0m                                 Traceback (most recent call last)",
      "Cell \u001b[1;32mIn[14], line 1\u001b[0m\n\u001b[1;32m----> 1\u001b[0m obj \u001b[38;5;241m=\u001b[39m person2(\u001b[38;5;124m\"\u001b[39m\u001b[38;5;124mrohit\u001b[39m\u001b[38;5;124m\"\u001b[39m, \u001b[38;5;124m\"\u001b[39m\u001b[38;5;124msharma\u001b[39m\u001b[38;5;124m\"\u001b[39m, \u001b[38;5;241m37\u001b[39m)\n",
      "\u001b[1;31mTypeError\u001b[0m: person2.__init__() takes 3 positional arguments but 4 were given"
     ]
    }
   ],
   "source": [
    "obj = person2(\"rohit\", \"sharma\", 37)"
   ]
  },
  {
   "cell_type": "code",
   "execution_count": 15,
   "id": "0d3e1306-3ee7-457f-bd7c-ad21b99bcf7c",
   "metadata": {},
   "outputs": [],
   "source": [
    "obj = person2(\"rohit\", 37)"
   ]
  },
  {
   "cell_type": "code",
   "execution_count": 16,
   "id": "7d672f05-598e-4455-b40c-d4c1b7f13006",
   "metadata": {},
   "outputs": [
    {
     "data": {
      "text/plain": [
       "37"
      ]
     },
     "execution_count": 16,
     "metadata": {},
     "output_type": "execute_result"
    }
   ],
   "source": [
    "obj.age"
   ]
  },
  {
   "cell_type": "code",
   "execution_count": 17,
   "id": "03cdfcb2-d598-44d5-b3b7-d112ae8c12e8",
   "metadata": {},
   "outputs": [
    {
     "data": {
      "text/plain": [
       "'rohit'"
      ]
     },
     "execution_count": 17,
     "metadata": {},
     "output_type": "execute_result"
    }
   ],
   "source": [
    "obj.name"
   ]
  },
  {
   "cell_type": "code",
   "execution_count": 18,
   "id": "aafcf82e-51b8-49fd-94ab-a6abd37e6a9b",
   "metadata": {},
   "outputs": [],
   "source": [
    "class person3 :\n",
    "    \n",
    "    def __init__ (self, name, lastname, DOB):\n",
    "        self.name = name1\n",
    "        self.lastname = lastname1\n",
    "        self.DOB = DOB1"
   ]
  },
  {
   "cell_type": "code",
   "execution_count": 19,
   "id": "9a68df11-bcae-4cc6-99b5-4c6f30ee2538",
   "metadata": {},
   "outputs": [
    {
     "ename": "NameError",
     "evalue": "name 'name1' is not defined",
     "output_type": "error",
     "traceback": [
      "\u001b[1;31m---------------------------------------------------------------------------\u001b[0m",
      "\u001b[1;31mNameError\u001b[0m                                 Traceback (most recent call last)",
      "Cell \u001b[1;32mIn[19], line 1\u001b[0m\n\u001b[1;32m----> 1\u001b[0m o1 \u001b[38;5;241m=\u001b[39m person3(\u001b[38;5;124m\"\u001b[39m\u001b[38;5;124mrohit\u001b[39m\u001b[38;5;124m\"\u001b[39m, \u001b[38;5;124m\"\u001b[39m\u001b[38;5;124msharma\u001b[39m\u001b[38;5;124m\"\u001b[39m, \u001b[38;5;241m1987\u001b[39m)\n",
      "Cell \u001b[1;32mIn[18], line 4\u001b[0m, in \u001b[0;36mperson3.__init__\u001b[1;34m(self, name, lastname, DOB)\u001b[0m\n\u001b[0;32m      3\u001b[0m \u001b[38;5;28;01mdef\u001b[39;00m \u001b[38;5;21m__init__\u001b[39m (\u001b[38;5;28mself\u001b[39m, name, lastname, DOB):\n\u001b[1;32m----> 4\u001b[0m     \u001b[38;5;28mself\u001b[39m\u001b[38;5;241m.\u001b[39mname \u001b[38;5;241m=\u001b[39m name1\n\u001b[0;32m      5\u001b[0m     \u001b[38;5;28mself\u001b[39m\u001b[38;5;241m.\u001b[39mlastname \u001b[38;5;241m=\u001b[39m lastname1\n\u001b[0;32m      6\u001b[0m     \u001b[38;5;28mself\u001b[39m\u001b[38;5;241m.\u001b[39mDOB \u001b[38;5;241m=\u001b[39m DOB1\n",
      "\u001b[1;31mNameError\u001b[0m: name 'name1' is not defined"
     ]
    }
   ],
   "source": [
    "o1 = person3(\"rohit\", \"sharma\", 1987)"
   ]
  },
  {
   "cell_type": "code",
   "execution_count": 20,
   "id": "d81c0f97-1c3c-46b0-ad1e-5398da79764e",
   "metadata": {},
   "outputs": [],
   "source": [
    "class person3 :\n",
    "    \n",
    "    def __init__ (self, name, lastname, DOB):\n",
    "        self.lastname = name\n",
    "        self.name = lastname\n",
    "        self.age = DOB"
   ]
  },
  {
   "cell_type": "code",
   "execution_count": 21,
   "id": "17bbd917-dc25-4a92-b020-5c55a8c17835",
   "metadata": {},
   "outputs": [],
   "source": [
    "o2 = person3(\"rohit\", \"sharma\", 1987)"
   ]
  },
  {
   "cell_type": "code",
   "execution_count": 22,
   "id": "6425d180-db10-4d7c-9089-cdd594753806",
   "metadata": {},
   "outputs": [
    {
     "data": {
      "text/plain": [
       "'rohit'"
      ]
     },
     "execution_count": 22,
     "metadata": {},
     "output_type": "execute_result"
    }
   ],
   "source": [
    "o2.lastname"
   ]
  },
  {
   "cell_type": "code",
   "execution_count": null,
   "id": "ccc5274a-a7f2-4e2f-af15-d8415891f407",
   "metadata": {},
   "outputs": [],
   "source": []
  },
  {
   "cell_type": "code",
   "execution_count": 56,
   "id": "79456f78-e7ab-4a02-a1f2-0ebdc545f3ff",
   "metadata": {},
   "outputs": [],
   "source": [
    "class person3 :\n",
    "    \n",
    "    def __init__ (self, name, lastname, DOB):\n",
    "        self.name = name\n",
    "        self.lastname = lastname\n",
    "        self.DOB = DOB\n",
    "\n",
    "    def age(self, current_year):\n",
    "        self.current_year = current_year\n",
    "        return self.current_year - self.DOB\n",
    "        "
   ]
  },
  {
   "cell_type": "code",
   "execution_count": 57,
   "id": "afa4bf28-44c7-47ca-9637-1895fe476af3",
   "metadata": {},
   "outputs": [],
   "source": [
    "o3 = person3(\"rohit\", \"sharma\", 1987)"
   ]
  },
  {
   "cell_type": "code",
   "execution_count": 58,
   "id": "ef81a0f4-3edb-4a56-bbaf-981d47cf6c71",
   "metadata": {},
   "outputs": [
    {
     "data": {
      "text/plain": [
       "38"
      ]
     },
     "execution_count": 58,
     "metadata": {},
     "output_type": "execute_result"
    }
   ],
   "source": [
    "o3.age(2025)"
   ]
  },
  {
   "cell_type": "code",
   "execution_count": 59,
   "id": "25195b6f-17ef-46bd-b331-45c3a60308f9",
   "metadata": {},
   "outputs": [],
   "source": [
    "o4 = person3(\"rohit\", \"sharma\", 1980)"
   ]
  },
  {
   "cell_type": "code",
   "execution_count": 60,
   "id": "cfc230e5-f4e5-478b-abf0-33f8d44e4ee5",
   "metadata": {},
   "outputs": [
    {
     "data": {
      "text/plain": [
       "45"
      ]
     },
     "execution_count": 60,
     "metadata": {},
     "output_type": "execute_result"
    }
   ],
   "source": [
    "o4.age(2025)"
   ]
  },
  {
   "cell_type": "code",
   "execution_count": 68,
   "id": "d9ee0cd3-721e-4209-97fb-96abf7e7a3e9",
   "metadata": {},
   "outputs": [],
   "source": [
    "class person4 :\n",
    "    \n",
    "    def __init__ (self, name, lastname, DOB):\n",
    "        self.name = name                #public\n",
    "        self._lastname = lastname       #protective\n",
    "        self.__DOB = DOB                #private\n",
    "\n",
    "    def age(self, current_year):\n",
    "        self.current_year = current_year\n",
    "        return self.current_year - self.__DOB"
   ]
  },
  {
   "cell_type": "code",
   "execution_count": 74,
   "id": "c389a735-a273-4ee8-a210-73c88e4999d8",
   "metadata": {},
   "outputs": [],
   "source": [
    "object = person4(\"viart\", \"kohli\", 1988)"
   ]
  },
  {
   "cell_type": "code",
   "execution_count": 75,
   "id": "01cf6ab7-0638-4701-bb47-fe8633ed08b8",
   "metadata": {},
   "outputs": [
    {
     "data": {
      "text/plain": [
       "'viart'"
      ]
     },
     "execution_count": 75,
     "metadata": {},
     "output_type": "execute_result"
    }
   ],
   "source": [
    "object.name"
   ]
  },
  {
   "cell_type": "code",
   "execution_count": 79,
   "id": "1748c326-f59c-4614-bae3-67db1f5e0faf",
   "metadata": {},
   "outputs": [
    {
     "data": {
      "text/plain": [
       "'kohli'"
      ]
     },
     "execution_count": 79,
     "metadata": {},
     "output_type": "execute_result"
    }
   ],
   "source": [
    "object._lastname"
   ]
  },
  {
   "cell_type": "code",
   "execution_count": 77,
   "id": "b5a2f883-69c7-4843-a79a-3a7c2708228e",
   "metadata": {},
   "outputs": [
    {
     "data": {
      "text/plain": [
       "37"
      ]
     },
     "execution_count": 77,
     "metadata": {},
     "output_type": "execute_result"
    }
   ],
   "source": [
    "object.age(2025)"
   ]
  },
  {
   "cell_type": "code",
   "execution_count": 81,
   "id": "34051200-95ee-439d-a426-36d358c9276a",
   "metadata": {},
   "outputs": [
    {
     "data": {
      "text/plain": [
       "1988"
      ]
     },
     "execution_count": 81,
     "metadata": {},
     "output_type": "execute_result"
    }
   ],
   "source": [
    "object._person4__DOB"
   ]
  },
  {
   "cell_type": "code",
   "execution_count": 82,
   "id": "b96dbd6c-023c-4bed-84cd-09e7db9ccb26",
   "metadata": {},
   "outputs": [
    {
     "data": {
      "text/plain": [
       "'kohli'"
      ]
     },
     "execution_count": 82,
     "metadata": {},
     "output_type": "execute_result"
    }
   ],
   "source": [
    "object._lastname"
   ]
  },
  {
   "cell_type": "code",
   "execution_count": 83,
   "id": "8f275966-349e-424c-a12f-b3f13e5db29e",
   "metadata": {},
   "outputs": [
    {
     "data": {
      "text/plain": [
       "1988"
      ]
     },
     "execution_count": 83,
     "metadata": {},
     "output_type": "execute_result"
    }
   ],
   "source": [
    "object._person4__DOB"
   ]
  },
  {
   "cell_type": "code",
   "execution_count": null,
   "id": "d16dbb75-9332-40a2-8a15-8984baef15ac",
   "metadata": {},
   "outputs": [],
   "source": []
  }
 ],
 "metadata": {
  "kernelspec": {
   "display_name": "Python 3 (ipykernel)",
   "language": "python",
   "name": "python3"
  },
  "language_info": {
   "codemirror_mode": {
    "name": "ipython",
    "version": 3
   },
   "file_extension": ".py",
   "mimetype": "text/x-python",
   "name": "python",
   "nbconvert_exporter": "python",
   "pygments_lexer": "ipython3",
   "version": "3.11.7"
  }
 },
 "nbformat": 4,
 "nbformat_minor": 5
}
