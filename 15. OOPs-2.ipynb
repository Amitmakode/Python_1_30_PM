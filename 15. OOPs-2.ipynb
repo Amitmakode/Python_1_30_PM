{
 "cells": [
  {
   "cell_type": "code",
   "execution_count": 1,
   "id": "ff96fdd5-6749-40b5-a21e-24d70239fbbc",
   "metadata": {},
   "outputs": [],
   "source": [
    "class car :                 #perent class   \n",
    "                         # inheritence \n",
    "    def __init__(self , body , engin , tyre):\n",
    "        self.body = body\n",
    "        self.engin = engin\n",
    "        self.tyre = tyre\n",
    "\n",
    "    def milage (self):\n",
    "        print(\"milage of this car \") \n",
    "        \n",
    "        \n",
    "class tata(car):                #child class\n",
    "    pass"
   ]
  },
  {
   "cell_type": "code",
   "execution_count": 3,
   "id": "e31ea596-2e54-41c3-971d-0b5d9997d400",
   "metadata": {},
   "outputs": [],
   "source": [
    "obj = car(\"hatchback\", \"v3\", \"radial\")"
   ]
  },
  {
   "cell_type": "code",
   "execution_count": 4,
   "id": "14245154-0ec5-4ab8-ab4c-df2bfda15577",
   "metadata": {},
   "outputs": [
    {
     "name": "stdout",
     "output_type": "stream",
     "text": [
      "milage of this car \n"
     ]
    }
   ],
   "source": [
    "obj.milage()"
   ]
  },
  {
   "cell_type": "code",
   "execution_count": 6,
   "id": "44e49bcd-30b4-4fec-b0bd-e952b09ae7c4",
   "metadata": {},
   "outputs": [],
   "source": [
    "obj1 = tata"
   ]
  },
  {
   "cell_type": "code",
   "execution_count": 8,
   "id": "c93d2b58-454f-4153-bfeb-6ea9e959ba84",
   "metadata": {},
   "outputs": [
    {
     "data": {
      "text/plain": [
       "<function __main__.car.milage(self)>"
      ]
     },
     "execution_count": 8,
     "metadata": {},
     "output_type": "execute_result"
    }
   ],
   "source": [
    "obj1.milage"
   ]
  },
  {
   "cell_type": "code",
   "execution_count": 10,
   "id": "b9ae7114-7874-43d7-937e-09ea96214668",
   "metadata": {},
   "outputs": [
    {
     "data": {
      "text/plain": [
       "<function tata.mro()>"
      ]
     },
     "execution_count": 10,
     "metadata": {},
     "output_type": "execute_result"
    }
   ],
   "source": [
    "obj1.mro"
   ]
  },
  {
   "cell_type": "code",
   "execution_count": null,
   "id": "4eea5eb5-5734-4e1c-977b-77affa0dc11c",
   "metadata": {},
   "outputs": [],
   "source": []
  },
  {
   "cell_type": "code",
   "execution_count": null,
   "id": "08e35311-5af1-4686-95f6-5d15c0f9e282",
   "metadata": {},
   "outputs": [],
   "source": []
  },
  {
   "cell_type": "code",
   "execution_count": 11,
   "id": "a78e1c91-3e9c-4baa-b2b3-c9a8731fae7e",
   "metadata": {},
   "outputs": [],
   "source": [
    "class bank :             # perents class \n",
    "    def transaction(self) :\n",
    "        print(\"total transaction value \")\n",
    "    def account_opening(self):\n",
    "        print(\"this will show you your account open status \")\n",
    "    def deposite(self):\n",
    "        print(\"this will show your deposited amount\")\n",
    "\n",
    "\n",
    "class HDFC_bank(bank):             # child class\n",
    "    def hdfc_to_icici(self):\n",
    "        print(\"this will show you all the transaction happend to icici throuhg hdfc\")\n",
    "\n",
    "class icici(HDFC_bank):          # child class\n",
    "    pass                        \n",
    "\n",
    "# multilevel inheritence"
   ]
  },
  {
   "cell_type": "code",
   "execution_count": 12,
   "id": "311db96a-b2f7-445a-9f5f-314445320bb3",
   "metadata": {},
   "outputs": [],
   "source": [
    "obj2 = icici()"
   ]
  },
  {
   "cell_type": "code",
   "execution_count": 14,
   "id": "3255ccd2-5c29-4dbe-bb0f-85a0324f7cc4",
   "metadata": {},
   "outputs": [
    {
     "name": "stdout",
     "output_type": "stream",
     "text": [
      "this will show you all the transaction happend to icici throuhg hdfc\n"
     ]
    }
   ],
   "source": [
    "obj2.hdfc_to_icici()"
   ]
  },
  {
   "cell_type": "code",
   "execution_count": null,
   "id": "d013d13f-35f4-482c-a86b-1a4ca0bfb685",
   "metadata": {},
   "outputs": [],
   "source": []
  },
  {
   "cell_type": "code",
   "execution_count": null,
   "id": "d5d959a9-d3b2-40e0-8dce-c90829fa1a00",
   "metadata": {},
   "outputs": [],
   "source": []
  },
  {
   "cell_type": "code",
   "execution_count": 18,
   "id": "a85fc0ff-c4e2-48f8-ad69-0877aeb8105d",
   "metadata": {},
   "outputs": [],
   "source": [
    "class bank :\n",
    "    def transaction(self) :\n",
    "        print(\"total transaction value \")\n",
    "    def account_opening(self):\n",
    "        print(\"this will show you your account open status \")\n",
    "    def deposite(self):\n",
    "        print(\"this will show your deposited amount\")\n",
    "    def test(self):                          # override code\n",
    "        print(\"this is a test methond form bank class \")\n",
    "\n",
    "\n",
    "class HDFC_bank:\n",
    "    def hdfc_to_icici(self):\n",
    "        print(\"this will show you all the transaction happend to icici throuhg hdfc\")\n",
    "    def test(self):           #override code\n",
    "        print(\"this is a test method form hdfc bank \")\n",
    "\n",
    "class ineron_bank:\n",
    "    def account_status_icici(self):\n",
    "        print(\"print a account status in icici \")\n",
    "\n",
    "class icici(HDFC_bank, bank,  ineron_bank):      # multiple inheritence\n",
    "    pass"
   ]
  },
  {
   "cell_type": "code",
   "execution_count": 19,
   "id": "0730fc7a-f07b-4dbd-a924-561ccd84e6d9",
   "metadata": {},
   "outputs": [],
   "source": [
    "obj3 = icici()"
   ]
  },
  {
   "cell_type": "code",
   "execution_count": 17,
   "id": "196e27cc-ff46-419c-b74c-9accff876b73",
   "metadata": {},
   "outputs": [
    {
     "name": "stdout",
     "output_type": "stream",
     "text": [
      "this is a test methond form bank class \n"
     ]
    }
   ],
   "source": [
    "obj3.test()"
   ]
  },
  {
   "cell_type": "code",
   "execution_count": 20,
   "id": "05356a30-566c-48a2-9a12-646ee7743b74",
   "metadata": {},
   "outputs": [],
   "source": [
    "obj4 = icici()"
   ]
  },
  {
   "cell_type": "code",
   "execution_count": 21,
   "id": "1473d1e4-9cd9-4c02-b104-6c2df2deea03",
   "metadata": {},
   "outputs": [
    {
     "name": "stdout",
     "output_type": "stream",
     "text": [
      "this is a test method form hdfc bank \n"
     ]
    }
   ],
   "source": [
    "obj4.test()"
   ]
  },
  {
   "cell_type": "code",
   "execution_count": null,
   "id": "1d571618-ed3a-4ad2-b9fd-107dc21465d8",
   "metadata": {},
   "outputs": [],
   "source": []
  },
  {
   "cell_type": "code",
   "execution_count": 22,
   "id": "b21a7f16-cb65-4a41-b30a-9192f3919d8f",
   "metadata": {},
   "outputs": [],
   "source": [
    "class bank :\n",
    "    def transaction(self) :\n",
    "        print(\"total transaction value \")\n",
    "    def account_opening(self):\n",
    "        print(\"this will show you your account open status \")\n",
    "    def deposite(self):\n",
    "        print(\"this will show your deposited amount\")\n",
    "    def test(self):                          # override code\n",
    "        print(\"this is a test methond form bank class \")\n",
    "\n",
    "\n",
    "class HDFC_bank(bank):\n",
    "    def hdfc_to_icici(self):\n",
    "        print(\"this will show you all the transaction happend to icici throuhg hdfc\")\n",
    "    def test(self):           #override code\n",
    "        print(\"this is a test method form hdfc bank \")"
   ]
  },
  {
   "cell_type": "code",
   "execution_count": 23,
   "id": "2423b80e-1d30-4787-b08f-bf82736bdd2e",
   "metadata": {},
   "outputs": [],
   "source": [
    "obj5 = HDFC_bank()"
   ]
  },
  {
   "cell_type": "code",
   "execution_count": 24,
   "id": "bc2df5d8-efd7-4d41-a4d6-f434e3c6daab",
   "metadata": {},
   "outputs": [
    {
     "name": "stdout",
     "output_type": "stream",
     "text": [
      "this is a test method form hdfc bank \n"
     ]
    }
   ],
   "source": [
    "obj5.test()"
   ]
  },
  {
   "cell_type": "code",
   "execution_count": 25,
   "id": "6c4df5c6-bf66-4f09-bc10-ad00406ba188",
   "metadata": {},
   "outputs": [],
   "source": [
    "obj6 = bank()"
   ]
  },
  {
   "cell_type": "code",
   "execution_count": 26,
   "id": "064685f9-5645-4ff1-9501-42b3d6bcdf6b",
   "metadata": {},
   "outputs": [
    {
     "name": "stdout",
     "output_type": "stream",
     "text": [
      "this is a test methond form bank class \n"
     ]
    }
   ],
   "source": [
    "obj6.test()"
   ]
  },
  {
   "cell_type": "code",
   "execution_count": null,
   "id": "34b7b1e9-4447-4148-9d25-be1812284ace",
   "metadata": {},
   "outputs": [],
   "source": []
  },
  {
   "cell_type": "markdown",
   "id": "560fbbac-d5ba-4e32-976b-2c5885ed376e",
   "metadata": {},
   "source": [
    "### Hirerchical"
   ]
  },
  {
   "cell_type": "code",
   "execution_count": 27,
   "id": "b6b5b8ea-3835-4110-b28b-049a6e9355f3",
   "metadata": {},
   "outputs": [
    {
     "name": "stdout",
     "output_type": "stream",
     "text": [
      "Vehicle started\n",
      "Driving a car\n",
      "Vehicle started\n",
      "Riding a bike\n"
     ]
    }
   ],
   "source": [
    "# Parent class\n",
    "class Vehicle:\n",
    "    def start(self):\n",
    "        print(\"Vehicle started\")\n",
    "\n",
    "# Child class 1\n",
    "class Car(Vehicle):\n",
    "    def drive(self):\n",
    "        print(\"Driving a car\")\n",
    "\n",
    "# Child class 2\n",
    "class Bike(Vehicle):\n",
    "    def ride(self):\n",
    "        print(\"Riding a bike\")\n",
    "\n",
    "# Creating objects of child classes\n",
    "c = Car()\n",
    "b = Bike()\n",
    "\n",
    "# Access parent method from both child classes\n",
    "c.start()  # Inherited from Vehicle\n",
    "c.drive()  # Car-specific method\n",
    "\n",
    "b.start()  # Inherited from Vehicle\n",
    "b.ride()   # Bike-specific method\n"
   ]
  },
  {
   "cell_type": "markdown",
   "id": "3bc8c55f-9669-45e3-a362-724847d6828a",
   "metadata": {},
   "source": [
    "### Hybrid"
   ]
  },
  {
   "cell_type": "code",
   "execution_count": 28,
   "id": "9bdf487c-6e12-42ea-bf77-d9788ea8c786",
   "metadata": {},
   "outputs": [
    {
     "name": "stdout",
     "output_type": "stream",
     "text": [
      "Vehicles are used for transportation.\n",
      "Car has 4 wheels.\n",
      "Bike has 2 wheels.\n",
      "Electric bike runs on battery.\n"
     ]
    }
   ],
   "source": [
    "# Parent class\n",
    "class Vehicle:\n",
    "    def general_info(self):\n",
    "        print(\"Vehicles are used for transportation.\")\n",
    "\n",
    "# Child class 1 (inherits from Vehicle)\n",
    "class Car(Vehicle):\n",
    "    def car_info(self):\n",
    "        print(\"Car has 4 wheels.\")\n",
    "\n",
    "# Child class 2 (inherits from Vehicle)\n",
    "class Bike(Vehicle):\n",
    "    def bike_info(self):\n",
    "        print(\"Bike has 2 wheels.\")\n",
    "\n",
    "# Grandchild class (inherits from both Car and Bike)\n",
    "class ElectricBike(Car, Bike):\n",
    "    def electric_info(self):\n",
    "        print(\"Electric bike runs on battery.\")\n",
    "\n",
    "# Create object of ElectricBike\n",
    "ebike = ElectricBike()\n",
    "\n",
    "# Access methods\n",
    "ebike.general_info()   # From Vehicle\n",
    "ebike.car_info()       # From Car\n",
    "ebike.bike_info()      # From Bike\n",
    "ebike.electric_info()  # Own method\n"
   ]
  },
  {
   "cell_type": "markdown",
   "id": "16f61536-5262-4f79-b5e8-f10bb0b40f51",
   "metadata": {},
   "source": [
    "### Encapsulation"
   ]
  },
  {
   "cell_type": "code",
   "execution_count": 32,
   "id": "3e0fcdcb-1358-4ce4-995d-8bafb0dc3424",
   "metadata": {},
   "outputs": [],
   "source": [
    "class ineuron2:                      # encpsulation \n",
    "    def __init__(self):\n",
    "        self.students1 = \"data science\"\n",
    "\n",
    "    def students(self):\n",
    "        print(self.students1)\n",
    "\n",
    "\n",
    "\n",
    "class ineuron3:\n",
    "    def __init__(self):\n",
    "        self.__students1 = \"data science \"\n",
    "\n",
    "    def students(self):\n",
    "        print(self.__students1)\n",
    "        \n",
    "    def student_change(self,new_value):\n",
    "        self.__students1 = new_value"
   ]
  },
  {
   "cell_type": "code",
   "execution_count": 33,
   "id": "7af46926-60dd-4b7d-a983-efacd55f708b",
   "metadata": {},
   "outputs": [],
   "source": [
    "i1 = ineuron2()"
   ]
  },
  {
   "cell_type": "code",
   "execution_count": 34,
   "id": "10eb97b1-ab42-4893-8f3d-04883dddb14f",
   "metadata": {},
   "outputs": [
    {
     "data": {
      "text/plain": [
       "'data science'"
      ]
     },
     "execution_count": 34,
     "metadata": {},
     "output_type": "execute_result"
    }
   ],
   "source": [
    "i1.students1"
   ]
  },
  {
   "cell_type": "code",
   "execution_count": 35,
   "id": "e684c831-cf91-4b8b-ba46-bff6df75e549",
   "metadata": {},
   "outputs": [],
   "source": [
    "i1.students1 = \"data engineer\""
   ]
  },
  {
   "cell_type": "code",
   "execution_count": 36,
   "id": "2351c8ce-e34d-4de3-93c9-13eac836f50c",
   "metadata": {},
   "outputs": [
    {
     "name": "stdout",
     "output_type": "stream",
     "text": [
      "data engineer\n"
     ]
    }
   ],
   "source": [
    "i1.students()"
   ]
  },
  {
   "cell_type": "code",
   "execution_count": null,
   "id": "db4d11ca-2052-4328-be94-5a6dda7b59e5",
   "metadata": {},
   "outputs": [],
   "source": []
  },
  {
   "cell_type": "code",
   "execution_count": 37,
   "id": "114d1662-d7ee-4dac-af6c-52a5102dbf3f",
   "metadata": {},
   "outputs": [],
   "source": [
    "i3 = ineuron3()"
   ]
  },
  {
   "cell_type": "code",
   "execution_count": 38,
   "id": "a2ca2205-762d-4a36-b944-2ccf12e4838b",
   "metadata": {},
   "outputs": [
    {
     "data": {
      "text/plain": [
       "'data science '"
      ]
     },
     "execution_count": 38,
     "metadata": {},
     "output_type": "execute_result"
    }
   ],
   "source": [
    "i3._ineuron3__students1"
   ]
  },
  {
   "cell_type": "code",
   "execution_count": 39,
   "id": "1497c3f0-9b4f-4c4f-b798-f5c45be8e1a8",
   "metadata": {},
   "outputs": [],
   "source": [
    "i3._ineuron3__students1 = \"data analytics\""
   ]
  },
  {
   "cell_type": "code",
   "execution_count": 40,
   "id": "c38079d0-177c-49bc-bc55-a991d226ae8b",
   "metadata": {},
   "outputs": [
    {
     "data": {
      "text/plain": [
       "'data analytics'"
      ]
     },
     "execution_count": 40,
     "metadata": {},
     "output_type": "execute_result"
    }
   ],
   "source": [
    "i3._ineuron3__students1"
   ]
  },
  {
   "cell_type": "code",
   "execution_count": 43,
   "id": "0bc4ce09-48a9-4806-be2d-e0c6cec19e31",
   "metadata": {},
   "outputs": [
    {
     "name": "stdout",
     "output_type": "stream",
     "text": [
      "data analytics\n"
     ]
    }
   ],
   "source": [
    "i3.students()"
   ]
  },
  {
   "cell_type": "code",
   "execution_count": 44,
   "id": "c8eac881-ef8f-4c60-a19d-26da32f16b6d",
   "metadata": {},
   "outputs": [],
   "source": [
    "i3.student_change(\"cloud engineer\")"
   ]
  },
  {
   "cell_type": "code",
   "execution_count": 45,
   "id": "5f452da0-cb08-442c-8ef2-c64e911be440",
   "metadata": {},
   "outputs": [
    {
     "name": "stdout",
     "output_type": "stream",
     "text": [
      "cloud engineer\n"
     ]
    }
   ],
   "source": [
    "i3.students()"
   ]
  },
  {
   "cell_type": "code",
   "execution_count": 29,
   "id": "ba16f8d8-98f3-4e3d-a4da-e4b413301b1d",
   "metadata": {},
   "outputs": [],
   "source": [
    "#Encapsulation\n",
    "\n",
    "class Car:\n",
    "    def __init__(self, brand, speed=0):\n",
    "        self.__brand = brand  # Private attribute\n",
    "        self.__speed = speed  # Private attribute\n",
    "\n",
    "    def accelerate(self, increase):\n",
    "        self.__speed += increase\n",
    "\n",
    "    def get_speed(self):\n",
    "        return self.__speed\n",
    "\n",
    "    def get_brand(self):\n",
    "        return self.__brand\n",
    "\n"
   ]
  },
  {
   "cell_type": "code",
   "execution_count": 30,
   "id": "fbe99852-224f-4620-b15e-1c54c18184ee",
   "metadata": {},
   "outputs": [
    {
     "name": "stdout",
     "output_type": "stream",
     "text": [
      "Toyota\n"
     ]
    }
   ],
   "source": [
    "# Usage\n",
    "my_car = Car(\"Toyota\")\n",
    "my_car.accelerate(20)\n",
    "\n",
    "print(my_car.get_brand())   \n"
   ]
  },
  {
   "cell_type": "code",
   "execution_count": 31,
   "id": "fe5ac1f9-182d-4c7c-a73f-158cd0dedc0c",
   "metadata": {},
   "outputs": [
    {
     "name": "stdout",
     "output_type": "stream",
     "text": [
      "20\n"
     ]
    }
   ],
   "source": [
    "print(my_car.get_speed())   \n",
    "#my_car.__speed  # Error: Attribute is private"
   ]
  },
  {
   "cell_type": "code",
   "execution_count": 46,
   "id": "e88bcfdf-12be-4949-9c8f-766bb6be81fd",
   "metadata": {},
   "outputs": [],
   "source": [
    "class ineuron1:\n",
    "    __students = \"data science\"       #data abstraction \n",
    "\n",
    "    def studetns(self):\n",
    "        print(ineuron1.__students)"
   ]
  },
  {
   "cell_type": "code",
   "execution_count": 47,
   "id": "1af7109f-3d0e-4921-a724-ab478bc493ab",
   "metadata": {},
   "outputs": [],
   "source": [
    "obj7 = ineuron1()"
   ]
  },
  {
   "cell_type": "code",
   "execution_count": 49,
   "id": "22579fbc-ce46-44c9-809b-1a8caf714b6f",
   "metadata": {},
   "outputs": [
    {
     "name": "stdout",
     "output_type": "stream",
     "text": [
      "data science\n"
     ]
    }
   ],
   "source": [
    "obj7.studetns()"
   ]
  },
  {
   "cell_type": "code",
   "execution_count": 50,
   "id": "61e0d4a6-6a05-4650-bb65-fba587428e9a",
   "metadata": {},
   "outputs": [
    {
     "data": {
      "text/plain": [
       "'data science'"
      ]
     },
     "execution_count": 50,
     "metadata": {},
     "output_type": "execute_result"
    }
   ],
   "source": [
    "obj7._ineuron1__students"
   ]
  },
  {
   "cell_type": "code",
   "execution_count": null,
   "id": "94c74b4d-cf4c-425d-bbf7-cf2173713004",
   "metadata": {},
   "outputs": [],
   "source": []
  },
  {
   "cell_type": "markdown",
   "id": "48b9f818-b408-41eb-b1dd-6f9ff6f61d0e",
   "metadata": {},
   "source": [
    "### Polymorphism"
   ]
  },
  {
   "cell_type": "code",
   "execution_count": 51,
   "id": "fc7bd893-8302-464c-9259-d222dd2d9782",
   "metadata": {},
   "outputs": [
    {
     "name": "stdout",
     "output_type": "stream",
     "text": [
      "Car is driving on the road.\n",
      "Boat is sailing on water.\n"
     ]
    }
   ],
   "source": [
    "class Vehicle:\n",
    "    def move(self):\n",
    "        return \"Vehicle is moving.\"\n",
    "\n",
    "class Car(Vehicle):\n",
    "    def move(self):  # Overrides parent method\n",
    "        return \"Car is driving on the road.\"\n",
    "\n",
    "class Boat(Vehicle):\n",
    "    def move(self):  # Overrides parent method\n",
    "        return \"Boat is sailing on water.\"\n",
    "\n",
    "# Usage\n",
    "vehicles = [Car(), Boat()]\n",
    "for i in vehicles:\n",
    "    print(i.move())"
   ]
  },
  {
   "cell_type": "code",
   "execution_count": null,
   "id": "d9268b20-6adc-45e4-a7d6-3849310ca1c0",
   "metadata": {},
   "outputs": [],
   "source": []
  },
  {
   "cell_type": "code",
   "execution_count": 52,
   "id": "c85242ce-130f-4bc5-84e6-b99c6afe62fe",
   "metadata": {},
   "outputs": [],
   "source": [
    "class ineuron4:\n",
    "    def students(self):\n",
    "        print(\"print a students details \")\n",
    "\n",
    "class class_type :\n",
    "    def student(self):\n",
    "        print(\"print the class type of students\")"
   ]
  },
  {
   "cell_type": "code",
   "execution_count": 53,
   "id": "dd14180b-34b9-416d-9f00-ecb6046c7f25",
   "metadata": {},
   "outputs": [],
   "source": [
    "def ineuron_external(a,b):\n",
    "    a.students()\n",
    "    b.student()"
   ]
  },
  {
   "cell_type": "code",
   "execution_count": 54,
   "id": "a04cf72b-47a7-48c6-911f-f9bd66334123",
   "metadata": {},
   "outputs": [],
   "source": [
    "obj4 = ineuron4()"
   ]
  },
  {
   "cell_type": "code",
   "execution_count": 55,
   "id": "50ab4962-d2d1-41f3-8661-27350c6c960c",
   "metadata": {},
   "outputs": [],
   "source": [
    "obj5 = class_type()"
   ]
  },
  {
   "cell_type": "code",
   "execution_count": 56,
   "id": "3388e076-69fb-4999-9339-53691a273de9",
   "metadata": {},
   "outputs": [
    {
     "name": "stdout",
     "output_type": "stream",
     "text": [
      "print a students details \n",
      "print the class type of students\n"
     ]
    }
   ],
   "source": [
    "ineuron_external(obj4, obj5)"
   ]
  },
  {
   "cell_type": "code",
   "execution_count": null,
   "id": "d8b514d8-ad18-421d-991d-8e2fd83ff919",
   "metadata": {},
   "outputs": [],
   "source": []
  },
  {
   "cell_type": "code",
   "execution_count": null,
   "id": "cb79e44c-a7d9-4d13-870c-6bab2f76f182",
   "metadata": {},
   "outputs": [],
   "source": []
  },
  {
   "cell_type": "code",
   "execution_count": null,
   "id": "dce8669d-5230-4b57-96ce-faf8055a949f",
   "metadata": {},
   "outputs": [],
   "source": [
    "class\n",
    "object\n",
    "__init__\n",
    "self\n",
    "attributes\n",
    "method\n",
    "public\n",
    "protective\n",
    "private\n",
    "override method\n",
    "inherintece \n",
    "single\n",
    "multipal\n",
    "multilevel\n",
    "hirerchical\n",
    "hybrid\n",
    "encapsulation\n",
    "polymorphism\n",
    "data abstraction"
   ]
  },
  {
   "cell_type": "code",
   "execution_count": null,
   "id": "80e07661-7727-4ccf-83c5-63beb15a71cb",
   "metadata": {},
   "outputs": [],
   "source": []
  },
  {
   "cell_type": "code",
   "execution_count": 57,
   "id": "f2028e20-c27c-41dd-aece-67818e6f09f8",
   "metadata": {},
   "outputs": [],
   "source": [
    "import os"
   ]
  },
  {
   "cell_type": "code",
   "execution_count": 58,
   "id": "426d1dd6-149e-497c-b640-42d7455856b5",
   "metadata": {},
   "outputs": [
    {
     "data": {
      "text/plain": [
       "'C:\\\\Users\\\\amitm\\\\Class\\\\Python_11_30_PM'"
      ]
     },
     "execution_count": 58,
     "metadata": {},
     "output_type": "execute_result"
    }
   ],
   "source": [
    "os.getcwd()"
   ]
  },
  {
   "cell_type": "code",
   "execution_count": 61,
   "id": "80ab0d37-6515-4aa2-b3c3-a4668a1c154c",
   "metadata": {},
   "outputs": [
    {
     "data": {
      "text/plain": [
       "['.ipynb_checkpoints',\n",
       " 'Built-in Functions.ipynb',\n",
       " 'Conditions.ipynb',\n",
       " 'demo.txt',\n",
       " 'demo1.txt',\n",
       " 'Dict.ipynb',\n",
       " 'example.txt',\n",
       " 'file handling with OS.ipynb',\n",
       " 'File handling.ipynb',\n",
       " 'Loop.ipynb',\n",
       " 'newfile.txt',\n",
       " 'OOPs-1.ipynb',\n",
       " 'OOPs-2.ipynb',\n",
       " 'textfile.txt',\n",
       " 'Try_Except.ipynb',\n",
       " 'UDF_2.ipynb',\n",
       " 'Untitled.ipynb',\n",
       " 'User Define Function.ipynb']"
      ]
     },
     "execution_count": 61,
     "metadata": {},
     "output_type": "execute_result"
    }
   ],
   "source": [
    "os.listdir()"
   ]
  },
  {
   "cell_type": "code",
   "execution_count": 62,
   "id": "7797ec63-832b-41b2-a709-672d2bef6361",
   "metadata": {},
   "outputs": [],
   "source": [
    "os.chdir(\"C:\\\\Users\\\\amitm\\\\Downloads\")"
   ]
  },
  {
   "cell_type": "code",
   "execution_count": 63,
   "id": "fa1638a2-a4d7-4fec-92eb-c37dd7a7aa8e",
   "metadata": {},
   "outputs": [
    {
     "data": {
      "text/plain": [
       "'C:\\\\Users\\\\amitm\\\\Downloads'"
      ]
     },
     "execution_count": 63,
     "metadata": {},
     "output_type": "execute_result"
    }
   ],
   "source": [
    "os.getcwd()"
   ]
  },
  {
   "cell_type": "code",
   "execution_count": 64,
   "id": "544849d0-356b-42a1-bef1-a9ec85be0034",
   "metadata": {},
   "outputs": [],
   "source": [
    "os.mkdir(\"newfolder\")"
   ]
  },
  {
   "cell_type": "code",
   "execution_count": 65,
   "id": "e113613f-73f3-426a-a5af-13254865cb4f",
   "metadata": {},
   "outputs": [
    {
     "data": {
      "text/plain": [
       "['-Future-Bank-Balance-Predictor-main',\n",
       " '01. Basic -1 .ipynb',\n",
       " '02. Basic - 2.ipynb',\n",
       " '02. Basic commands.sql',\n",
       " '02. financial_dataset.csv',\n",
       " '03. Built-in  functions.ipynb',\n",
       " '15. Decision Tree Regressor.ipynb',\n",
       " '16. Random Forest.pdf',\n",
       " '3 sem marksheet.pdf',\n",
       " 'Advertising.csv',\n",
       " 'desktop.ini',\n",
       " 'exports-to-oceanic-countries.csv',\n",
       " 'Helio clinic',\n",
       " 'Job Description.pdf',\n",
       " 'newfolder',\n",
       " 'top_50_commodities_full_data.xls',\n",
       " 'Trainers Interview Feedback.xlsx',\n",
       " 'VTU-Tracks Curriculum Final.xlsx']"
      ]
     },
     "execution_count": 65,
     "metadata": {},
     "output_type": "execute_result"
    }
   ],
   "source": [
    "os.listdir()"
   ]
  },
  {
   "cell_type": "code",
   "execution_count": 66,
   "id": "262d992b-c355-45f1-a601-4c55013b65e9",
   "metadata": {},
   "outputs": [],
   "source": [
    "os.chdir(\"C:\\\\Users\\\\amitm\\\\Downloads\\\\newfolder\")"
   ]
  },
  {
   "cell_type": "code",
   "execution_count": 67,
   "id": "24e1b77e-1c93-41eb-b369-ac29e0cbefd7",
   "metadata": {},
   "outputs": [
    {
     "data": {
      "text/plain": [
       "'C:\\\\Users\\\\amitm\\\\Downloads\\\\newfolder'"
      ]
     },
     "execution_count": 67,
     "metadata": {},
     "output_type": "execute_result"
    }
   ],
   "source": [
    "os.getcwd()"
   ]
  },
  {
   "cell_type": "code",
   "execution_count": 68,
   "id": "01003496-5636-4d92-a00a-6cfc4516d782",
   "metadata": {},
   "outputs": [
    {
     "data": {
      "text/plain": [
       "[]"
      ]
     },
     "execution_count": 68,
     "metadata": {},
     "output_type": "execute_result"
    }
   ],
   "source": [
    "os.listdir()"
   ]
  },
  {
   "cell_type": "code",
   "execution_count": 70,
   "id": "f40f591f-fd3f-4296-9714-3a49ceaf1a91",
   "metadata": {},
   "outputs": [
    {
     "name": "stdout",
     "output_type": "stream",
     "text": [
      "Writing demo.txt\n"
     ]
    }
   ],
   "source": [
    "%%writefile demo.txt\n",
    "kuchh bhi"
   ]
  },
  {
   "cell_type": "code",
   "execution_count": 71,
   "id": "3a867ec6-3b13-479e-a665-992d59dd4596",
   "metadata": {},
   "outputs": [
    {
     "data": {
      "text/plain": [
       "['demo.txt']"
      ]
     },
     "execution_count": 71,
     "metadata": {},
     "output_type": "execute_result"
    }
   ],
   "source": [
    "os.listdir()"
   ]
  },
  {
   "cell_type": "code",
   "execution_count": 72,
   "id": "8b0b9607-a887-4725-b867-b2ce00d1cc00",
   "metadata": {},
   "outputs": [],
   "source": [
    "os.remove(\"demo.txt\")"
   ]
  },
  {
   "cell_type": "code",
   "execution_count": 73,
   "id": "06ae5a0a-c884-4912-9574-fc178af943c1",
   "metadata": {},
   "outputs": [
    {
     "data": {
      "text/plain": [
       "[]"
      ]
     },
     "execution_count": 73,
     "metadata": {},
     "output_type": "execute_result"
    }
   ],
   "source": [
    "os.listdir()"
   ]
  },
  {
   "cell_type": "code",
   "execution_count": 74,
   "id": "cc2f5ff8-2f73-4408-b4d7-2e9ee020ff15",
   "metadata": {},
   "outputs": [],
   "source": [
    "os.chdir('C:\\\\Users\\\\amitm\\\\Downloads')"
   ]
  },
  {
   "cell_type": "code",
   "execution_count": 75,
   "id": "addbed3e-a7e4-4fed-b680-d68bb2109b90",
   "metadata": {},
   "outputs": [
    {
     "data": {
      "text/plain": [
       "['-Future-Bank-Balance-Predictor-main',\n",
       " '01. Basic -1 .ipynb',\n",
       " '02. Basic - 2.ipynb',\n",
       " '02. Basic commands.sql',\n",
       " '02. financial_dataset.csv',\n",
       " '03. Built-in  functions.ipynb',\n",
       " '15. Decision Tree Regressor.ipynb',\n",
       " '16. Random Forest.pdf',\n",
       " '3 sem marksheet.pdf',\n",
       " 'Advertising.csv',\n",
       " 'desktop.ini',\n",
       " 'exports-to-oceanic-countries.csv',\n",
       " 'Helio clinic',\n",
       " 'Job Description.pdf',\n",
       " 'newfolder',\n",
       " 'top_50_commodities_full_data.xls',\n",
       " 'Trainers Interview Feedback.xlsx',\n",
       " 'VTU-Tracks Curriculum Final.xlsx']"
      ]
     },
     "execution_count": 75,
     "metadata": {},
     "output_type": "execute_result"
    }
   ],
   "source": [
    "os.listdir()"
   ]
  },
  {
   "cell_type": "code",
   "execution_count": 76,
   "id": "313a2ed9-335b-4cac-9710-88fa85278331",
   "metadata": {},
   "outputs": [],
   "source": [
    "os.rmdir(\"newfolder\")"
   ]
  },
  {
   "cell_type": "code",
   "execution_count": 77,
   "id": "3e936260-35e8-4166-82f8-1b518cddb1e1",
   "metadata": {},
   "outputs": [
    {
     "data": {
      "text/plain": [
       "['-Future-Bank-Balance-Predictor-main',\n",
       " '01. Basic -1 .ipynb',\n",
       " '02. Basic - 2.ipynb',\n",
       " '02. Basic commands.sql',\n",
       " '02. financial_dataset.csv',\n",
       " '03. Built-in  functions.ipynb',\n",
       " '15. Decision Tree Regressor.ipynb',\n",
       " '16. Random Forest.pdf',\n",
       " '3 sem marksheet.pdf',\n",
       " 'Advertising.csv',\n",
       " 'desktop.ini',\n",
       " 'exports-to-oceanic-countries.csv',\n",
       " 'Helio clinic',\n",
       " 'Job Description.pdf',\n",
       " 'top_50_commodities_full_data.xls',\n",
       " 'Trainers Interview Feedback.xlsx',\n",
       " 'VTU-Tracks Curriculum Final.xlsx']"
      ]
     },
     "execution_count": 77,
     "metadata": {},
     "output_type": "execute_result"
    }
   ],
   "source": [
    "os.listdir()"
   ]
  },
  {
   "cell_type": "code",
   "execution_count": 78,
   "id": "ad37d991-1f4d-49ae-98e4-544782de7058",
   "metadata": {},
   "outputs": [],
   "source": [
    "os.chdir('C:\\\\Users\\\\amitm\\\\Class\\\\Python_11_30_PM')"
   ]
  },
  {
   "cell_type": "code",
   "execution_count": 79,
   "id": "916903fd-70bd-4ade-8edf-0b383d07e64e",
   "metadata": {},
   "outputs": [
    {
     "data": {
      "text/plain": [
       "['.ipynb_checkpoints',\n",
       " 'Built-in Functions.ipynb',\n",
       " 'Conditions.ipynb',\n",
       " 'demo.txt',\n",
       " 'demo1.txt',\n",
       " 'Dict.ipynb',\n",
       " 'example.txt',\n",
       " 'file handling with OS.ipynb',\n",
       " 'File handling.ipynb',\n",
       " 'Loop.ipynb',\n",
       " 'newfile.txt',\n",
       " 'OOPs-1.ipynb',\n",
       " 'OOPs-2.ipynb',\n",
       " 'textfile.txt',\n",
       " 'Try_Except.ipynb',\n",
       " 'UDF_2.ipynb',\n",
       " 'Untitled.ipynb',\n",
       " 'User Define Function.ipynb']"
      ]
     },
     "execution_count": 79,
     "metadata": {},
     "output_type": "execute_result"
    }
   ],
   "source": [
    "os.listdir()"
   ]
  },
  {
   "cell_type": "code",
   "execution_count": null,
   "id": "419fdbb7-bb49-4f87-b18a-212a83f5aff5",
   "metadata": {},
   "outputs": [],
   "source": []
  }
 ],
 "metadata": {
  "kernelspec": {
   "display_name": "Python 3 (ipykernel)",
   "language": "python",
   "name": "python3"
  },
  "language_info": {
   "codemirror_mode": {
    "name": "ipython",
    "version": 3
   },
   "file_extension": ".py",
   "mimetype": "text/x-python",
   "name": "python",
   "nbconvert_exporter": "python",
   "pygments_lexer": "ipython3",
   "version": "3.11.7"
  }
 },
 "nbformat": 4,
 "nbformat_minor": 5
}
